{
  "nbformat": 4,
  "nbformat_minor": 0,
  "metadata": {
    "colab": {
      "provenance": [],
      "authorship_tag": "ABX9TyPKuJUEBOMNKRFALDUY6Lwz"
    },
    "kernelspec": {
      "name": "python3",
      "display_name": "Python 3"
    },
    "language_info": {
      "name": "python"
    },
    "accelerator": "GPU",
    "gpuClass": "standard"
  },
  "cells": [
    {
      "cell_type": "code",
      "execution_count": 1,
      "metadata": {
        "colab": {
          "base_uri": "https://localhost:8080/"
        },
        "id": "k_OiMdy-dniW",
        "outputId": "cbc011ba-5033-4e33-9346-36babd1e47f8"
      },
      "outputs": [
        {
          "output_type": "stream",
          "name": "stdout",
          "text": [
            "Mounted at /content/drive\n"
          ]
        }
      ],
      "source": [
        "from google.colab import drive\n",
        "drive.mount('/content/drive')"
      ]
    },
    {
      "cell_type": "code",
      "source": [
        "import importlib\n",
        "import os\n",
        "import random\n",
        "import fnmatch\n",
        "import datetime\n",
        "import pickle\n",
        "\n",
        "import numpy as np\n",
        "np.set_printoptions(formatter={'float_kind' : lambda x : \"%.4f\" % x})\n",
        "\n",
        "import pandas as pd\n",
        "pd.set_option('display.width', 300)\n",
        "pd.set_option('display.float_format', '{:,.4f}'.format)\n",
        "pd.set_option('display.max_colwidth', 200)\n",
        "\n",
        "import tensorflow as tf\n",
        "import tensorflow.keras\n",
        "from tensorflow.keras.models import Sequential\n",
        "from tensorflow.keras.layers import Conv2D, MaxPool2D, Dropout, Flatten, Dense\n",
        "from tensorflow.keras.optimizers import Adam\n",
        "from tensorflow.keras.models import load_model\n",
        "\n",
        "print(f'tf.__version__: {tf.__version__}')\n",
        "print(f'.keras.__version__: {tensorflow.keras.__version__}')\n",
        "\n",
        "from sklearn.utils import shuffle\n",
        "from sklearn.model_selection import train_test_split\n",
        "\n",
        "import cv2\n",
        "from imgaug import augmenters as img_aug\n",
        "import matplotlib.pyplot as plt\n",
        "import matplotlib.image as mpimg\n",
        "%matplotlib inline\n",
        "from PIL import Image"
      ],
      "metadata": {
        "colab": {
          "base_uri": "https://localhost:8080/"
        },
        "id": "p-w5o2AFmiUH",
        "outputId": "0b79977f-e0f0-49d2-f82e-63e19f7c1b44"
      },
      "execution_count": 7,
      "outputs": [
        {
          "output_type": "stream",
          "name": "stdout",
          "text": [
            "tf.__version__: 2.9.2\n",
            ".keras.__version__: 2.9.0\n"
          ]
        }
      ]
    },
    {
      "cell_type": "code",
      "source": [
        "data_dir = '/content/artificial_control/video'\n",
        "file_list = os.listdir(data_dir)\n",
        "image_paths = []\n",
        "steering_angles = []\n",
        "pattern = \"*.png\"\n",
        "for filename in file_list:\n",
        "  if fnmatch.fnmatch(filename, pattern):\n",
        "    image_paths.append(os.path.join(data_dir,filename))\n",
        "    angle = int(filename[-7:-4])\n",
        "    steering_angles.append(angle)\n",
        "\n",
        "image_index = 20\n",
        "plt.imshow(Image.open(image_paths[image_index]))\n",
        "print(\"image_path : %s\" % image_paths[image_index])\n",
        "print(\"steering_Angle : %d\" % steering_angles[image_index])\n",
        "df = pd.DataFrame()\n",
        "df['ImagePath'] = image_paths\n",
        "df['Angle'] = steering_angles"
      ],
      "metadata": {
        "colab": {
          "base_uri": "https://localhost:8080/",
          "height": 241
        },
        "id": "Z5TWJQPHn_mv",
        "outputId": "12174f31-9007-47c0-dae9-cd6c34750bdc"
      },
      "execution_count": 12,
      "outputs": [
        {
          "output_type": "error",
          "ename": "FileNotFoundError",
          "evalue": "ignored",
          "traceback": [
            "\u001b[0;31m---------------------------------------------------------------------------\u001b[0m",
            "\u001b[0;31mFileNotFoundError\u001b[0m                         Traceback (most recent call last)",
            "\u001b[0;32m<ipython-input-12-f77c5946a54e>\u001b[0m in \u001b[0;36m<module>\u001b[0;34m\u001b[0m\n\u001b[1;32m      1\u001b[0m \u001b[0mdata_dir\u001b[0m \u001b[0;34m=\u001b[0m \u001b[0;34m'/content/artificial_control/video'\u001b[0m\u001b[0;34m\u001b[0m\u001b[0;34m\u001b[0m\u001b[0m\n\u001b[0;32m----> 2\u001b[0;31m \u001b[0mfile_list\u001b[0m \u001b[0;34m=\u001b[0m \u001b[0mos\u001b[0m\u001b[0;34m.\u001b[0m\u001b[0mlistdir\u001b[0m\u001b[0;34m(\u001b[0m\u001b[0mdata_dir\u001b[0m\u001b[0;34m)\u001b[0m\u001b[0;34m\u001b[0m\u001b[0;34m\u001b[0m\u001b[0m\n\u001b[0m\u001b[1;32m      3\u001b[0m \u001b[0mimage_paths\u001b[0m \u001b[0;34m=\u001b[0m \u001b[0;34m[\u001b[0m\u001b[0;34m]\u001b[0m\u001b[0;34m\u001b[0m\u001b[0;34m\u001b[0m\u001b[0m\n\u001b[1;32m      4\u001b[0m \u001b[0msteering_angles\u001b[0m \u001b[0;34m=\u001b[0m \u001b[0;34m[\u001b[0m\u001b[0;34m]\u001b[0m\u001b[0;34m\u001b[0m\u001b[0;34m\u001b[0m\u001b[0m\n\u001b[1;32m      5\u001b[0m \u001b[0mpattern\u001b[0m \u001b[0;34m=\u001b[0m \u001b[0;34m\"*.png\"\u001b[0m\u001b[0;34m\u001b[0m\u001b[0;34m\u001b[0m\u001b[0m\n",
            "\u001b[0;31mFileNotFoundError\u001b[0m: [Errno 2] No such file or directory: '/content/artificial_control/video'"
          ]
        }
      ]
    },
    {
      "cell_type": "code",
      "source": [
        "num_of_bins = 25\n",
        "hist, bins = np.histogram(df['Angle'], num_of_bins)\n",
        "\n",
        "fig, axes = plt.subplots(1,1, figsize = (12, 4))\n",
        "axes.hist(df['Angle'], bins = num_of_bins, width = 1, color = 'blue')"
      ],
      "metadata": {
        "colab": {
          "base_uri": "https://localhost:8080/",
          "height": 241
        },
        "id": "2s3ZlgEOt2hx",
        "outputId": "fba9859c-8e5b-4339-dbc8-22f1c3a7ad02"
      },
      "execution_count": 13,
      "outputs": [
        {
          "output_type": "error",
          "ename": "NameError",
          "evalue": "ignored",
          "traceback": [
            "\u001b[0;31m---------------------------------------------------------------------------\u001b[0m",
            "\u001b[0;31mNameError\u001b[0m                                 Traceback (most recent call last)",
            "\u001b[0;32m<ipython-input-13-d1284ff23b33>\u001b[0m in \u001b[0;36m<module>\u001b[0;34m\u001b[0m\n\u001b[1;32m      1\u001b[0m \u001b[0mnum_of_bins\u001b[0m \u001b[0;34m=\u001b[0m \u001b[0;36m25\u001b[0m\u001b[0;34m\u001b[0m\u001b[0;34m\u001b[0m\u001b[0m\n\u001b[0;32m----> 2\u001b[0;31m \u001b[0mhist\u001b[0m\u001b[0;34m,\u001b[0m \u001b[0mbins\u001b[0m \u001b[0;34m=\u001b[0m \u001b[0mnp\u001b[0m\u001b[0;34m.\u001b[0m\u001b[0mhistogram\u001b[0m\u001b[0;34m(\u001b[0m\u001b[0mdf\u001b[0m\u001b[0;34m[\u001b[0m\u001b[0;34m'Angle'\u001b[0m\u001b[0;34m]\u001b[0m\u001b[0;34m,\u001b[0m \u001b[0mnum_of_bins\u001b[0m\u001b[0;34m)\u001b[0m\u001b[0;34m\u001b[0m\u001b[0;34m\u001b[0m\u001b[0m\n\u001b[0m\u001b[1;32m      3\u001b[0m \u001b[0;34m\u001b[0m\u001b[0m\n\u001b[1;32m      4\u001b[0m \u001b[0mfig\u001b[0m\u001b[0;34m,\u001b[0m \u001b[0maxes\u001b[0m \u001b[0;34m=\u001b[0m \u001b[0mplt\u001b[0m\u001b[0;34m.\u001b[0m\u001b[0msubplots\u001b[0m\u001b[0;34m(\u001b[0m\u001b[0;36m1\u001b[0m\u001b[0;34m,\u001b[0m\u001b[0;36m1\u001b[0m\u001b[0;34m,\u001b[0m \u001b[0mfigsize\u001b[0m \u001b[0;34m=\u001b[0m \u001b[0;34m(\u001b[0m\u001b[0;36m12\u001b[0m\u001b[0;34m,\u001b[0m \u001b[0;36m4\u001b[0m\u001b[0;34m)\u001b[0m\u001b[0;34m)\u001b[0m\u001b[0;34m\u001b[0m\u001b[0;34m\u001b[0m\u001b[0m\n\u001b[1;32m      5\u001b[0m \u001b[0maxes\u001b[0m\u001b[0;34m.\u001b[0m\u001b[0mhist\u001b[0m\u001b[0;34m(\u001b[0m\u001b[0mdf\u001b[0m\u001b[0;34m[\u001b[0m\u001b[0;34m'Angle'\u001b[0m\u001b[0;34m]\u001b[0m\u001b[0;34m,\u001b[0m \u001b[0mbins\u001b[0m \u001b[0;34m=\u001b[0m \u001b[0mnum_of_bins\u001b[0m\u001b[0;34m,\u001b[0m \u001b[0mwidth\u001b[0m \u001b[0;34m=\u001b[0m \u001b[0;36m1\u001b[0m\u001b[0;34m,\u001b[0m \u001b[0mcolor\u001b[0m \u001b[0;34m=\u001b[0m \u001b[0;34m'blue'\u001b[0m\u001b[0;34m)\u001b[0m\u001b[0;34m\u001b[0m\u001b[0;34m\u001b[0m\u001b[0m\n",
            "\u001b[0;31mNameError\u001b[0m: name 'df' is not defined"
          ]
        }
      ]
    },
    {
      "cell_type": "code",
      "source": [
        "X_train, X_valid, y_train, y_valid = train_test_split(image_paths, steering_angles, test_size = 0.2)\n",
        "print(\"Training data : %d\\nValidation data : %d\" % (len(X_train), len(X_valid)))\n",
        "\n",
        "fig, axes = plt.subplots(1,2, figsize = (12, 4))\n",
        "axes[0].hist(y_train, bins=num_of_bins, width=1, color = 'blue')\n",
        "axes[0].set_title('Training Data')\n",
        "axes[1].hist(y_valid, bins = num_of_bins, width = 1, color = 'red')\n",
        "axes[1].set_title('Validation Data')"
      ],
      "metadata": {
        "id": "hoZEmXDnvF53"
      },
      "execution_count": null,
      "outputs": []
    },
    {
      "cell_type": "code",
      "source": [
        "def my_imread(image_path):\n",
        "  image = cv2.imread(image_path)\n",
        "  return image\n",
        "\n",
        "def img_preprocess(image):\n",
        "  image = image / 255\n",
        "  return image\n",
        "\n",
        "fig, axes = plt.subplots(1, 2, figsize=(15,10))\n",
        "image_orig = my_imread(image_paths[image_index])\n",
        "image_processed = img_preprocess(image_orig)\n",
        "axes[0].imshow(image_orig)\n",
        "axes[0].set_title(\"orig\")\n",
        "axes[1].imshow(image_processed)\n",
        "axes[1].set_title(\"processed\")"
      ],
      "metadata": {
        "id": "XaLEve1twpvf"
      },
      "execution_count": null,
      "outputs": []
    },
    {
      "cell_type": "code",
      "source": [
        "def nvidia_model():\n",
        "    model = Sequential(name = 'Nvidia_Model')\n",
        "\n",
        "    model.add(Conv2D(24, (5,5), strides = (2,2), input_shape = (66, 200, 3), activation = 'elu'))\n",
        "    model.add(Conv2D(36, (5,5), strides = (2,2), activation = 'elu'))\n",
        "    model.add(Conv2D(48, (5,5), strides = (2,2), activation = 'elu'))\n",
        "    model.add(Conv2D(64, (3,3), activation = 'elu'))\n",
        "    model.add(Dropout(0.2))\n",
        "    model.add(Conv2D(64, (3,3), activation = 'elu'))\n",
        "\n",
        "    model.add(Flatten())\n",
        "    model.add(Dropout(0.2))\n",
        "    model.add(Dense(100, activation = 'elu'))\n",
        "    model.add(Dense(50, activation = 'elu'))\n",
        "    model.add(Dense(10, activation = 'elu'))\n",
        "\n",
        "    model.add(Dense(1))\n",
        "    \n",
        "    optimizer = Adam(lr = 1e-3)\n",
        "    model.compile(loss = 'mse', optimizer = optimizer)\n",
        "\n",
        "    return model\n",
        "\n",
        "model = nvidia_model()\n",
        "print(model.summary())\n"
      ],
      "metadata": {
        "colab": {
          "base_uri": "https://localhost:8080/"
        },
        "id": "vhbmTnJUxm4Q",
        "outputId": "1a1215f9-d330-4293-b449-f75a2ff16fc2"
      },
      "execution_count": 14,
      "outputs": [
        {
          "output_type": "stream",
          "name": "stdout",
          "text": [
            "Model: \"Nvidia_Model\"\n",
            "_________________________________________________________________\n",
            " Layer (type)                Output Shape              Param #   \n",
            "=================================================================\n",
            " conv2d (Conv2D)             (None, 31, 98, 24)        1824      \n",
            "                                                                 \n",
            " conv2d_1 (Conv2D)           (None, 14, 47, 36)        21636     \n",
            "                                                                 \n",
            " conv2d_2 (Conv2D)           (None, 5, 22, 48)         43248     \n",
            "                                                                 \n",
            " conv2d_3 (Conv2D)           (None, 3, 20, 64)         27712     \n",
            "                                                                 \n",
            " dropout (Dropout)           (None, 3, 20, 64)         0         \n",
            "                                                                 \n",
            " conv2d_4 (Conv2D)           (None, 1, 18, 64)         36928     \n",
            "                                                                 \n",
            " flatten (Flatten)           (None, 1152)              0         \n",
            "                                                                 \n",
            " dropout_1 (Dropout)         (None, 1152)              0         \n",
            "                                                                 \n",
            " dense (Dense)               (None, 100)               115300    \n",
            "                                                                 \n",
            " dense_1 (Dense)             (None, 50)                5050      \n",
            "                                                                 \n",
            " dense_2 (Dense)             (None, 10)                510       \n",
            "                                                                 \n",
            " dense_3 (Dense)             (None, 1)                 11        \n",
            "                                                                 \n",
            "=================================================================\n",
            "Total params: 252,219\n",
            "Trainable params: 252,219\n",
            "Non-trainable params: 0\n",
            "_________________________________________________________________\n",
            "None\n"
          ]
        },
        {
          "output_type": "stream",
          "name": "stderr",
          "text": [
            "/usr/local/lib/python3.7/dist-packages/keras/optimizers/optimizer_v2/adam.py:110: UserWarning: The `lr` argument is deprecated, use `learning_rate` instead.\n",
            "  super(Adam, self).__init__(name, **kwargs)\n"
          ]
        }
      ]
    },
    {
      "cell_type": "code",
      "source": [
        "def image_data_generator(image_paths, steering_angles, batch_size):\n",
        "  while True:\n",
        "    batch_images = []\n",
        "    batch_streering_angles = []\n",
        "\n",
        "    for i in range(batch_size):\n",
        "      random_index = random.randint(0, len(image_paths) - 1)\n",
        "      image_path = image_paths[random_index]\n",
        "      image = my_imread(image_paths[random_index])\n",
        "      steering_angle = steering_angles[random_index]\n",
        "\n",
        "      image = img_preprocess(image)\n",
        "      batch_images.append(image)\n",
        "      batch_streering_angles.append(steering_angle)\n",
        "    \n",
        "    yield(np.asarray(batch_images), np.asarray(batch_streering_angles))\n",
        "\n",
        "ncol = 2\n",
        "nrow = 2\n",
        "\n",
        "X_train_batch, y_train_batch = next(image_data_generator(X_train, y_train, nrow))\n",
        "X_valid_batch, y_valid_batch = next(image_data_generator(X_valid, y_valid, nrow))\n",
        "\n",
        "fig, axes = plt.subplots(nrow, ncol, figsize = (15,6))\n",
        "fig.tight_layout()\n",
        "\n",
        "for i in range(nrow):\n",
        "  axes[i][0].imshow(X_train_batch[i])\n",
        "  axes[i][0].set_title(\"training, angle = %s\" % y_train_batch[i])\n",
        "  axes[i][1].imshow(X_valid_batch[i])\n",
        "  axes[i][1].set_title(\"validation, angle = %s\" % y_valid_batch[i])                                                            "
      ],
      "metadata": {
        "id": "Z2ZWEABxzHqu"
      },
      "execution_count": null,
      "outputs": []
    },
    {
      "cell_type": "code",
      "source": [
        "model_output_dir = \"/content/drive/MyDrive/artificial_control/model\"\n",
        "\n",
        "checkpoint_callback = tensorflow.keras.callbacks.ModelCheckpoint(filepath=os.path.join(model_output_dir, 'lane_navigation_check.h5'), \n",
        "                                                                 verbose=1, save_best_only =True)\n",
        "\n",
        "history = model.fit_generator(image_data_generator(X_train, y_train, batch_size=100, steps_per_epoch=300, epochs=10, \n",
        "                                                   validation_data=image_data_generator(X_valid, y_valid, batch_size=100),\n",
        "                                                   validation_steps=200, verbose=1, shuffle=1, callbacks=[checkpoint_callback]))\n",
        "\n",
        "model.save(os.path.join(model_output_dir, 'lane_navigation_final.h5'))\n",
        "\n",
        "history_path = os.path.join(model_output_dir, 'history.pickle')\n",
        "\n",
        "with open(history_path, 'wb') as f:\n",
        "  pickle.dump(history.history, f, pickle.HIGHEST_PROTOCOL)"
      ],
      "metadata": {
        "id": "JNnuAEUx1pf3"
      },
      "execution_count": null,
      "outputs": []
    },
    {
      "cell_type": "code",
      "source": [
        "history.history\n",
        "\n",
        "history_path = os.path.join(model_output_dir, 'history.pickle')\n",
        "\n",
        "with open(history_path, 'rb') as f:\n",
        "  history = pickle.load(f)\n",
        "\n",
        "\n",
        "history\n",
        "plt.plot(history['loss'], color = 'blue')\n",
        "plt.plot(history['val_loss'], color = 'red')\n",
        "plt.legend(['training loss', 'validation loss'])"
      ],
      "metadata": {
        "id": "RNEtHFDJ3HFg"
      },
      "execution_count": null,
      "outputs": []
    },
    {
      "cell_type": "code",
      "source": [
        "from sklearn.metrics import mean_squared_error, r2_score\n",
        "\n",
        "def summarize_prediction(Y_true, Y_pred):\n",
        "  mse = mean_squared_error(Y_true, Y_pred)\n",
        "  r_squared = r2_score(Y_true, Y_pred)\n",
        "\n",
        "  print(f'mse = {mse:.2}')\n",
        "  print(f'r_squared = {r_squared:.2%}')\n",
        "  print()\n",
        "\n",
        "def predict_and_summarize(X, Y):\n",
        "  model = load_model(f'{model_output_dir}/lane_navigation_check.h5')\n",
        "  Y_pred = model.predict(X)\n",
        "  summarize_prediction(Y, Y_pred)\n",
        "  return Y_pred\n",
        "\n",
        "n_tests = 100\n",
        "X_test, y_test = next(image_data_generator(X_valid, y_valid, 100))\n",
        "\n",
        "y_pred = predict_and_summarize(X_test, y_test)\n",
        "\n",
        "n_tests_show = 2\n",
        "fig, axes = plt.subplots(n_tests_show, 1, figsize=(10,4 * n_tests_show))\n",
        "for i in range(n_tests_show):\n",
        "  axes[i].imshow(X_test[i])\n",
        "  axes[i].set_title(f\"actual angle = {y_test[i]}, predicted angle = {int(y_pred[i])}, diff = {int(y_pred[i])-y_test[i]}\")"
      ],
      "metadata": {
        "id": "YEH4xzOJ3nZg"
      },
      "execution_count": null,
      "outputs": []
    }
  ]
}