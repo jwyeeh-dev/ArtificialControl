{
 "cells": [
  {
   "cell_type": "code",
   "execution_count": null,
   "metadata": {},
   "outputs": [],
   "source": [
    "import numpy as np\n",
    "import pandas as pd\n",
    "import tensorflow as tf"
   ]
  }
 ],
 "metadata": {
  "kernelspec": {
   "display_name": "tf",
   "language": "python",
   "name": "python3"
  },
  "language_info": {
   "name": "python",
   "version": "3.8.6 | packaged by conda-forge | (default, Jan 25 2021, 22:55:00) \n[Clang 11.0.1 ]"
  },
  "orig_nbformat": 4,
  "vscode": {
   "interpreter": {
    "hash": "8a2fe10a0ff013572275c9869b54e3c34434e6b19f9449f1f3c6bd91dc66c3bd"
   }
  }
 },
 "nbformat": 4,
 "nbformat_minor": 2
}
