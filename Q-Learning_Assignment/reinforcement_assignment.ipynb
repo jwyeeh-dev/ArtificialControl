{
 "cells": [
  {
   "attachments": {},
   "cell_type": "markdown",
   "metadata": {},
   "source": [
    "## Import Libraries"
   ]
  },
  {
   "cell_type": "code",
   "execution_count": 49,
   "metadata": {},
   "outputs": [],
   "source": [
    "import time\n",
    "import random\n",
    "import numpy as np\n",
    "import pandas as pd\n",
    "import tensorflow as tf\n",
    "from collections import defaultdict"
   ]
  },
  {
   "attachments": {},
   "cell_type": "markdown",
   "metadata": {},
   "source": [
    "## Grid World Environment Setting"
   ]
  },
  {
   "cell_type": "code",
   "execution_count": 50,
   "metadata": {},
   "outputs": [],
   "source": [
    "# parameter of environment setting\n",
    "HEIGHT = 6\n",
    "WIDTH = 6\n",
    "TRANSITION_PROB = 1\n",
    "POSSIBLE_ACTIONS = [0,1,2,3] # left, right, up, down\n",
    "ACTIONS =[(-1,0), (1,0), (0,-1), (0,1)] # actions represented by grid points.\n",
    "REWARDS = []"
   ]
  },
  {
   "cell_type": "code",
   "execution_count": 57,
   "metadata": {},
   "outputs": [],
   "source": [
    "class Env:\n",
    "    def __init__(self):\n",
    "        super(Env,self).__init__()\n",
    "        self.transition_probability = TRANSITION_PROB\n",
    "        self.width = WIDTH\n",
    "        self.height = HEIGHT\n",
    "        self.reward = [[0] * WIDTH for _ in range(HEIGHT)]\n",
    "        self.possible_actions = POSSIBLE_ACTIONS\n",
    "        self.n_actions = len(self.possible_actions)\n",
    "        self.reward[5][5] = 3 # desirable destination\n",
    "        self.reward[0][3] = -1  \n",
    "        self.reward[1][0] = -1 \n",
    "        self.reward[1][4] = -1 \n",
    "        self.reward[4][3] = -1\n",
    "        self.reward[5][0] = -1\n",
    "        self.all_state = []\n",
    "\n",
    "\n",
    "        for x in range(WIDTH):\n",
    "            for y in range(HEIGHT):\n",
    "                state = [x, y]\n",
    "                self.all_state.append(state)\n",
    "    \n",
    "    def get_reward(self, state, action):\n",
    "        next_state = self.state_after_action(state, action)\n",
    "        return self.reward[next_state[0]][next_state[1]]\n",
    "\n",
    "    def state_after_action(self, state, action_index):\n",
    "        action = ACTIONS[action_index]\n",
    "        return self.check_boundary([state[0] + action[0], state[1] + action[1]])\n",
    "\n",
    "\n",
    "    # static method\n",
    "    @staticmethod\n",
    "    # TO PREVENT TO MOVE AGENT FORWARDING OUT OF GRID \n",
    "    def check_boundary(state):\n",
    "        state[0] = (0 if state[0] < 0 else WIDTH - 1 if state[0] > WIDTH else state[0] - 1)\n",
    "        state[1] = (0 if state[1] < 0 else HEIGHT - 1 if state[1] > HEIGHT else state[1] - 1)\n",
    "        return state\n",
    "\n",
    "    def get_transition_prob(self, state, action):\n",
    "        return self.transition_probability\n",
    "\n",
    "    def get_all_states(self):\n",
    "        return self.all_state\n",
    "\n",
    "    def render(self):\n",
    "        time.sleep(0.03)\n",
    "        self.update()\n"
   ]
  },
  {
   "attachments": {},
   "cell_type": "markdown",
   "metadata": {},
   "source": [
    "## Q - Learning Declaration"
   ]
  },
  {
   "cell_type": "code",
   "execution_count": 58,
   "metadata": {},
   "outputs": [],
   "source": [
    "class QLearningAgent():\n",
    "    def __init__(self, actions):\n",
    "        self.actions = actions\n",
    "        self.step_size = 0.01\n",
    "        self.discount_factor = 0.9\n",
    "        self.epsilon = 0.9\n",
    "        self.q_table = defaultdict(lambda: [0.0, 0.0, 0.0, 0.0])\n",
    "\n",
    "    def learn(self, state, action, reward, next_state):\n",
    "        state, next_stae = str(state), str(next_state)\n",
    "        q_1 = self.q_table[state][action]\n",
    "        q_2 = reward + self.discount_factor * max(self.q_table[next_state])\n",
    "        self.q_table[state][action] += self.step_size * (q_2 - q_1)\n",
    "\n",
    "    def get_action(self, state):\n",
    "        if np.random.rand() < self.epsilon:\n",
    "            action = np.random.choice(self.actions)\n",
    "        else:\n",
    "            state = str(state)\n",
    "            q_list = self.q_table[state]\n",
    "            action = np.arg_max(q_list)\n",
    "        return action\n",
    "    \n"
   ]
  },
  {
   "cell_type": "code",
   "execution_count": 59,
   "metadata": {},
   "outputs": [],
   "source": [
    "def arg_max(q_list):\n",
    "    max_idx_list = np.argwhere(q_list == np.amax(q_list))\n",
    "    max_idx_list = max_idx_list.flatten().tolist()\n",
    "    return random.choice(max_idx_list) "
   ]
  },
  {
   "cell_type": "code",
   "execution_count": 60,
   "metadata": {},
   "outputs": [
    {
     "ename": "AttributeError",
     "evalue": "'Env' object has no attribute 'update'",
     "output_type": "error",
     "traceback": [
      "\u001b[0;31m---------------------------------------------------------------------------\u001b[0m",
      "\u001b[0;31mAttributeError\u001b[0m                            Traceback (most recent call last)",
      "Cell \u001b[0;32mIn[60], line 5\u001b[0m\n\u001b[1;32m      2\u001b[0m agent \u001b[39m=\u001b[39m QLearningAgent(actions \u001b[39m=\u001b[39m \u001b[39mlist\u001b[39m(\u001b[39mrange\u001b[39m(env\u001b[39m.\u001b[39mn_actions)))\n\u001b[1;32m      4\u001b[0m \u001b[39mfor\u001b[39;00m episode \u001b[39min\u001b[39;00m \u001b[39mrange\u001b[39m(\u001b[39m1000\u001b[39m):\n\u001b[0;32m----> 5\u001b[0m     env\u001b[39m.\u001b[39;49mrender()\n\u001b[1;32m      7\u001b[0m     action \u001b[39m=\u001b[39m agent\u001b[39m.\u001b[39mget_action(state)\n\u001b[1;32m     10\u001b[0m     agent\u001b[39m.\u001b[39mlearn(state, action, reward, next_state)\n",
      "Cell \u001b[0;32mIn[57], line 49\u001b[0m, in \u001b[0;36mEnv.render\u001b[0;34m(self)\u001b[0m\n\u001b[1;32m     47\u001b[0m \u001b[39mdef\u001b[39;00m \u001b[39mrender\u001b[39m(\u001b[39mself\u001b[39m):\n\u001b[1;32m     48\u001b[0m     time\u001b[39m.\u001b[39msleep(\u001b[39m0.03\u001b[39m)\n\u001b[0;32m---> 49\u001b[0m     \u001b[39mself\u001b[39;49m\u001b[39m.\u001b[39;49mupdate()\n",
      "\u001b[0;31mAttributeError\u001b[0m: 'Env' object has no attribute 'update'"
     ]
    }
   ],
   "source": [
    "env = Env()\n",
    "agent = QLearningAgent(actions = list(range(env.n_actions)))\n",
    "\n",
    "for episode in range(1000):\n",
    "    \n",
    "    reward = REWARDS\n",
    "\n",
    "    \n",
    "\n",
    "\n",
    "    action = agent.get_action(state)\n",
    "\n",
    "    agent.learn(state, action, reward, next_state)\n",
    "\n",
    "    state = next_state\n",
    "\n",
    "    env.print_value_all(agent.q_table)    "
   ]
  },
  {
   "cell_type": "code",
   "execution_count": null,
   "metadata": {},
   "outputs": [],
   "source": []
  },
  {
   "cell_type": "code",
   "execution_count": null,
   "metadata": {},
   "outputs": [],
   "source": []
  },
  {
   "cell_type": "code",
   "execution_count": null,
   "metadata": {},
   "outputs": [],
   "source": []
  }
 ],
 "metadata": {
  "kernelspec": {
   "display_name": "tf",
   "language": "python",
   "name": "python3"
  },
  "language_info": {
   "codemirror_mode": {
    "name": "ipython",
    "version": 3
   },
   "file_extension": ".py",
   "mimetype": "text/x-python",
   "name": "python",
   "nbconvert_exporter": "python",
   "pygments_lexer": "ipython3",
   "version": "3.8.6"
  },
  "orig_nbformat": 4,
  "vscode": {
   "interpreter": {
    "hash": "8a2fe10a0ff013572275c9869b54e3c34434e6b19f9449f1f3c6bd91dc66c3bd"
   }
  }
 },
 "nbformat": 4,
 "nbformat_minor": 2
}
