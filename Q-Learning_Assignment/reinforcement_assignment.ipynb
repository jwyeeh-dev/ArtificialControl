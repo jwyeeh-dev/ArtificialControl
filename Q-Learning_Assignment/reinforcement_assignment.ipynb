{
 "cells": [
  {
   "attachments": {},
   "cell_type": "markdown",
   "metadata": {},
   "source": [
    "## Import Libraries"
   ]
  },
  {
   "cell_type": "code",
   "execution_count": 49,
   "metadata": {},
   "outputs": [],
   "source": [
    "import time\n",
    "import random\n",
    "import numpy as np\n",
    "import pandas as pd\n",
    "import tensorflow as tf\n",
    "from collections import defaultdict"
   ]
  },
  {
   "attachments": {},
   "cell_type": "markdown",
   "metadata": {},
   "source": [
    "## Grid World Environment Setting"
   ]
  },
  {
   "cell_type": "code",
   "execution_count": 50,
   "metadata": {},
   "outputs": [],
   "source": [
    "# parameter of environment setting\n",
    "HEIGHT = 6\n",
    "WIDTH = 6\n",
    "TRANSITION_PROB = 1\n",
    "POSSIBLE_ACTIONS = [0,1,2,3] # left, right, up, down\n",
    "ACTIONS =[(-1,0), (1,0), (0,-1), (0,1)] # actions represented by grid points.\n",
    "REWARDS = []"
   ]
  },
  {
   "cell_type": "code",
   "execution_count": 57,
   "metadata": {},
   "outputs": [],
   "source": [
    "class Env:\n",
    "    def __init__(self):\n",
    "        super(Env,self).__init__()\n",
    "        self.transition_probability = TRANSITION_PROB\n",
    "        self.width = WIDTH\n",
    "        self.height = HEIGHT\n",
    "        self.reward = [[0] * WIDTH for _ in range(HEIGHT)]\n",
    "        self.possible_actions = POSSIBLE_ACTIONS\n",
    "        self.n_actions = len(self.possible_actions)\n",
    "        self.reward[5][5] = 3 # desirable destination\n",
    "        self.reward[0][3] = -1  \n",
    "        self.reward[1][0] = -1 \n",
    "        self.reward[1][4] = -1 \n",
    "        self.reward[4][3] = -1\n",
    "        self.reward[5][0] = -1\n",
    "        self.all_state = []\n",
    "\n",
    "\n",
    "        for x in range(WIDTH):\n",
    "            for y in range(HEIGHT):\n",
    "                state = [x, y]\n",
    "                self.all_state.append(state)\n",
    "    \n",
    "    def get_reward(self, state, action):\n",
    "        next_state = self.state_after_action(state, action)\n",
    "        return self.reward[next_state[0]][next_state[1]]\n",
    "\n",
    "    def state_after_action(self, state, action_index):\n",
    "        action = ACTIONS[action_index]\n",
    "        return self.check_boundary([state[0] + action[0], state[1] + action[1]])\n",
    "\n",
    "\n",
    "    # static method\n",
    "    @staticmethod\n",
    "    # TO PREVENT TO MOVE AGENT FORWARDING OUT OF GRID \n",
    "    def check_boundary(state):\n",
    "        state[0] = (0 if state[0] < 0 else WIDTH - 1 if state[0] > WIDTH else state[0] - 1)\n",
    "        state[1] = (0 if state[1] < 0 else HEIGHT - 1 if state[1] > HEIGHT else state[1] - 1)\n",
    "        return state\n",
    "\n",
    "    def get_transition_prob(self, state, action):\n",
    "        return self.transition_probability\n",
    "\n",
    "    def get_all_states(self):\n",
    "        return self.all_state\n",
    "\n",
    "    def render(self):\n",
    "        time.sleep(0.03)\n",
    "        self.update()\n"
   ]
  },
  {
   "attachments": {},
   "cell_type": "markdown",
   "metadata": {},
   "source": [
    "## Q - Learning Declaration"
   ]
  },
  {
   "cell_type": "code",
   "execution_count": 2,
   "metadata": {},
   "outputs": [
    {
     "ename": "TclError",
     "evalue": "image \"pyimage4\" doesn't exist",
     "output_type": "error",
     "traceback": [
      "\u001b[0;31m---------------------------------------------------------------------------\u001b[0m",
      "\u001b[0;31mTclError\u001b[0m                                  Traceback (most recent call last)",
      "Cell \u001b[0;32mIn[2], line 44\u001b[0m\n\u001b[1;32m     40\u001b[0m     \u001b[39mreturn\u001b[39;00m random\u001b[39m.\u001b[39mchoice(max_idx_list)\n\u001b[1;32m     43\u001b[0m \u001b[39mif\u001b[39;00m \u001b[39m__name__\u001b[39m \u001b[39m==\u001b[39m \u001b[39m\"\u001b[39m\u001b[39m__main__\u001b[39m\u001b[39m\"\u001b[39m:\n\u001b[0;32m---> 44\u001b[0m     env \u001b[39m=\u001b[39m Env()\n\u001b[1;32m     45\u001b[0m     agent \u001b[39m=\u001b[39m QLearningAgent(actions\u001b[39m=\u001b[39m\u001b[39mlist\u001b[39m(\u001b[39mrange\u001b[39m(env\u001b[39m.\u001b[39mn_actions)))\n\u001b[1;32m     47\u001b[0m     \u001b[39mfor\u001b[39;00m episode \u001b[39min\u001b[39;00m \u001b[39mrange\u001b[39m(\u001b[39m10\u001b[39m):\n",
      "File \u001b[0;32m~/github_repo/Artificial_Control_Github/Q-Learning_Assignment/environment.py:21\u001b[0m, in \u001b[0;36mEnv.__init__\u001b[0;34m(self)\u001b[0m\n\u001b[1;32m     19\u001b[0m \u001b[39mself\u001b[39m\u001b[39m.\u001b[39mgeometry(\u001b[39m'\u001b[39m\u001b[39m{0}\u001b[39;00m\u001b[39mx\u001b[39m\u001b[39m{1}\u001b[39;00m\u001b[39m'\u001b[39m\u001b[39m.\u001b[39mformat(HEIGHT \u001b[39m*\u001b[39m UNIT, HEIGHT \u001b[39m*\u001b[39m UNIT))\n\u001b[1;32m     20\u001b[0m \u001b[39mself\u001b[39m\u001b[39m.\u001b[39mshapes \u001b[39m=\u001b[39m \u001b[39mself\u001b[39m\u001b[39m.\u001b[39mload_images()\n\u001b[0;32m---> 21\u001b[0m \u001b[39mself\u001b[39m\u001b[39m.\u001b[39mcanvas \u001b[39m=\u001b[39m \u001b[39mself\u001b[39;49m\u001b[39m.\u001b[39;49m_build_canvas()\n\u001b[1;32m     22\u001b[0m \u001b[39mself\u001b[39m\u001b[39m.\u001b[39mtexts \u001b[39m=\u001b[39m []\n",
      "File \u001b[0;32m~/github_repo/Artificial_Control_Github/Q-Learning_Assignment/environment.py:37\u001b[0m, in \u001b[0;36mEnv._build_canvas\u001b[0;34m(self)\u001b[0m\n\u001b[1;32m     34\u001b[0m     canvas\u001b[39m.\u001b[39mcreate_line(x0, y0, x1, y1)\n\u001b[1;32m     36\u001b[0m \u001b[39m# 캔버스에 이미지 추가\u001b[39;00m\n\u001b[0;32m---> 37\u001b[0m \u001b[39mself\u001b[39m\u001b[39m.\u001b[39mrectangle \u001b[39m=\u001b[39m canvas\u001b[39m.\u001b[39;49mcreate_image(\u001b[39m50\u001b[39;49m, \u001b[39m50\u001b[39;49m, image \u001b[39m=\u001b[39;49m \u001b[39mself\u001b[39;49m\u001b[39m.\u001b[39;49mshapes[\u001b[39m0\u001b[39;49m])\n\u001b[1;32m     38\u001b[0m \u001b[39mself\u001b[39m\u001b[39m.\u001b[39mtriangle1 \u001b[39m=\u001b[39m canvas\u001b[39m.\u001b[39mcreate_image(\u001b[39m150\u001b[39m, \u001b[39m550\u001b[39m, image \u001b[39m=\u001b[39m \u001b[39mself\u001b[39m\u001b[39m.\u001b[39mshapes[\u001b[39m1\u001b[39m])\n\u001b[1;32m     39\u001b[0m \u001b[39mself\u001b[39m\u001b[39m.\u001b[39mtriangle2 \u001b[39m=\u001b[39m canvas\u001b[39m.\u001b[39mcreate_image(\u001b[39m150\u001b[39m, \u001b[39m250\u001b[39m, image \u001b[39m=\u001b[39m \u001b[39mself\u001b[39m\u001b[39m.\u001b[39mshapes[\u001b[39m1\u001b[39m])\n",
      "File \u001b[0;32m~/miniforge3/envs/tf/lib/python3.8/tkinter/__init__.py:2785\u001b[0m, in \u001b[0;36mCanvas.create_image\u001b[0;34m(self, *args, **kw)\u001b[0m\n\u001b[1;32m   2783\u001b[0m \u001b[39mdef\u001b[39;00m \u001b[39mcreate_image\u001b[39m(\u001b[39mself\u001b[39m, \u001b[39m*\u001b[39margs, \u001b[39m*\u001b[39m\u001b[39m*\u001b[39mkw):\n\u001b[1;32m   2784\u001b[0m     \u001b[39m\"\"\"Create image item with coordinates x1,y1.\"\"\"\u001b[39;00m\n\u001b[0;32m-> 2785\u001b[0m     \u001b[39mreturn\u001b[39;00m \u001b[39mself\u001b[39;49m\u001b[39m.\u001b[39;49m_create(\u001b[39m'\u001b[39;49m\u001b[39mimage\u001b[39;49m\u001b[39m'\u001b[39;49m, args, kw)\n",
      "File \u001b[0;32m~/miniforge3/envs/tf/lib/python3.8/tkinter/__init__.py:2771\u001b[0m, in \u001b[0;36mCanvas._create\u001b[0;34m(self, itemType, args, kw)\u001b[0m\n\u001b[1;32m   2769\u001b[0m \u001b[39melse\u001b[39;00m:\n\u001b[1;32m   2770\u001b[0m     cnf \u001b[39m=\u001b[39m {}\n\u001b[0;32m-> 2771\u001b[0m \u001b[39mreturn\u001b[39;00m \u001b[39mself\u001b[39m\u001b[39m.\u001b[39mtk\u001b[39m.\u001b[39mgetint(\u001b[39mself\u001b[39;49m\u001b[39m.\u001b[39;49mtk\u001b[39m.\u001b[39;49mcall(\n\u001b[1;32m   2772\u001b[0m     \u001b[39mself\u001b[39;49m\u001b[39m.\u001b[39;49m_w, \u001b[39m'\u001b[39;49m\u001b[39mcreate\u001b[39;49m\u001b[39m'\u001b[39;49m, itemType,\n\u001b[1;32m   2773\u001b[0m     \u001b[39m*\u001b[39;49m(args \u001b[39m+\u001b[39;49m \u001b[39mself\u001b[39;49m\u001b[39m.\u001b[39;49m_options(cnf, kw))))\n",
      "\u001b[0;31mTclError\u001b[0m: image \"pyimage4\" doesn't exist"
     ]
    },
    {
     "ename": "",
     "evalue": "",
     "output_type": "error",
     "traceback": [
      "\u001b[1;31m현재 셀 또는 이전 셀에서 코드를 실행하는 동안 Kernel이 충돌했습니다. 셀의 코드를 검토하여 오류의 가능한 원인을 식별하세요. 자세한 내용을 보려면 <a href='https://aka.ms/vscodeJupyterKernelCrash'> 여기 </a> 를 클릭하세요. 자세한 내용은 Jupyter <a href='command:jupyter.viewOutput'>로그</a>를 참조하세요."
     ]
    }
   ],
   "source": [
    "import numpy as np\n",
    "import random\n",
    "from environment import Env\n",
    "from collections import defaultdict\n",
    "\n",
    "\n",
    "class QLearningAgent:\n",
    "    def __init__(self, actions):\n",
    "        self.actions = actions\n",
    "        self.step_size = 0.01\n",
    "        self.discount_factor = 0.9\n",
    "        self.epsilon = 0.9\n",
    "        self.q_table = defaultdict(lambda: [0.0, 0.0, 0.0, 0.0])\n",
    "\n",
    "    # <s, a, r, s'> 샘플로부터 큐함수 업데이트\n",
    "    def learn(self, state, action, reward, next_state):\n",
    "        state, next_state = str(state), str(next_state)\n",
    "        q_1 = self.q_table[state][action]\n",
    "        # 벨만 최적 방정식을 사용한 큐함수의 업데이트\n",
    "        q_2 = reward + self.discount_factor * max(self.q_table[next_state])\n",
    "        self.q_table[state][action] += self.step_size * (q_2 - q_1)\n",
    "\n",
    "    # 큐함수에 의거하여 입실론 탐욕 정책에 따라서 행동을 반환\n",
    "    def get_action(self, state):\n",
    "        if np.random.rand() < self.epsilon:\n",
    "            # 무작위 행동 반환\n",
    "            action = np.random.choice(self.actions)\n",
    "        else:\n",
    "            # 큐함수에 따른 행동 반환\n",
    "            state = str(state)\n",
    "            q_list = self.q_table[state]\n",
    "            action = arg_max(q_list)\n",
    "        return action\n",
    "\n",
    "\n",
    "# 큐함수의 값에 따라 최적의 행동을 반환\n",
    "def arg_max(q_list):\n",
    "    max_idx_list = np.argwhere(q_list == np.amax(q_list))\n",
    "    max_idx_list = max_idx_list.flatten().tolist()\n",
    "    return random.choice(max_idx_list)\n",
    "\n",
    "\n",
    "if __name__ == \"__main__\":\n",
    "    env = Env()\n",
    "    agent = QLearningAgent(actions=list(range(env.n_actions)))\n",
    "\n",
    "    for episode in range(10):\n",
    "        state = env.reset()\n",
    "\n",
    "        while True:\n",
    "            # 게임 환경과 상태를 초기화\n",
    "            env.render()\n",
    "            # 현재 상태에 대한 행동 선택\n",
    "            action = agent.get_action(state)\n",
    "            # 행동을 취한 후 다음 상태, 보상 에피소드의 종료여부를 받아옴\n",
    "            next_state, reward, done = env.step(action)\n",
    "            # <s,a,r,s'>로 큐함수를 업데이트\n",
    "            agent.learn(state, action, reward, next_state)\n",
    "\n",
    "            print('episode : ' + str(episode) + 'The Sequence of action is : ' + str(action))\n",
    "            print('q-table : ' + '\\n' + str(agent.q_table))\n",
    "\n",
    "            state = next_state\n",
    "            \n",
    "            # 모든 큐함수를 화면에 표시\n",
    "            env.print_value_all(agent.q_table)\n",
    "\n",
    "            if done:\n",
    "                break    "
   ]
  },
  {
   "cell_type": "code",
   "execution_count": null,
   "metadata": {},
   "outputs": [],
   "source": []
  },
  {
   "cell_type": "code",
   "execution_count": null,
   "metadata": {},
   "outputs": [],
   "source": []
  },
  {
   "cell_type": "code",
   "execution_count": null,
   "metadata": {},
   "outputs": [],
   "source": []
  }
 ],
 "metadata": {
  "kernelspec": {
   "display_name": "tf",
   "language": "python",
   "name": "python3"
  },
  "language_info": {
   "codemirror_mode": {
    "name": "ipython",
    "version": 3
   },
   "file_extension": ".py",
   "mimetype": "text/x-python",
   "name": "python",
   "nbconvert_exporter": "python",
   "pygments_lexer": "ipython3",
   "version": "3.8.6"
  },
  "orig_nbformat": 4,
  "vscode": {
   "interpreter": {
    "hash": "8a2fe10a0ff013572275c9869b54e3c34434e6b19f9449f1f3c6bd91dc66c3bd"
   }
  }
 },
 "nbformat": 4,
 "nbformat_minor": 2
}
