{
 "cells": [
  {
   "attachments": {},
   "cell_type": "markdown",
   "metadata": {},
   "source": [
    "## Import Libraries"
   ]
  },
  {
   "cell_type": "code",
   "execution_count": 1,
   "metadata": {},
   "outputs": [],
   "source": [
    "import numpy as np\n",
    "import pandas as pd\n",
    "import tensorflow as tf\n",
    "from numpy import defaultdict"
   ]
  },
  {
   "attachments": {},
   "cell_type": "markdown",
   "metadata": {},
   "source": [
    "## Grid World Environment Setting"
   ]
  },
  {
   "cell_type": "code",
   "execution_count": null,
   "metadata": {},
   "outputs": [],
   "source": [
    "# parameter of environment setting\n",
    "HEIGHT = 6\n",
    "WIDTH = 6\n",
    "TRANSITION_PROB = 1\n",
    "POSSIBLE_ACTIONS = [0,1,2,3] # left, right, up, down\n",
    "ACTIONS =[(-1,0), (1,0), (0,-1), (0,1)] # actions represented by grid points.\n",
    "REWARDS = []"
   ]
  },
  {
   "cell_type": "code",
   "execution_count": 5,
   "metadata": {},
   "outputs": [],
   "source": [
    "class Env:\n",
    "    def __init__(self):\n",
    "        self.transition_probability = TRANSITION_PROB\n",
    "        self.width = WIDTH\n",
    "        self.height = HEIGHT\n",
    "        self.reward = [[0] * WIDTH for _ in range(HEIGHT)]\n",
    "        self.possible_actions = POSSIBLE_ACTIONS\n",
    "        self.reward[6][6] = 3 # desirable destination\n",
    "        self.reward[1][4] = -1 # \n",
    "        self.reward[2][1] = -1 \n",
    "        self.reward[2][5] = -1 \n",
    "        self.reward[5][4] = -1\n",
    "        self.reward[6][1] = -1\n",
    "        self.all_state = []\n",
    "\n",
    "        for x in range(WIDTH):\n",
    "            for y in range(HEIGHT):\n",
    "                state = [x, y]\n",
    "                self.all_state.append(state)\n",
    "    \n",
    "    def get_reward(self, state, action):\n",
    "        next_state = self.state_after_action(state, action)\n",
    "        return self.reward[next_state[0]][next_state[1]]\n",
    "\n",
    "    def state_after_action(self, state, action_index):\n",
    "        action = ACTIONS[action_index]\n",
    "        return self.check_boundary([state[0] + action[0], state[1] + action[1]])\n",
    "\n",
    "    # static method\n",
    "    @staticmethod\n",
    "    def check_boundary(state):\n",
    "        state[0] = (0 if state[0] < 0 else WIDTH - 1 if state[0] > WIDTH - 1 else state[0])\n",
    "        state[1] = (0 if state[1] < 0 else HEIGHT - 1 if state[1] > HEIGHT - 1 else state[1])\n",
    "        return state\n",
    "\n",
    "    def get_transition_prob(self, state, action):\n",
    "        return self.transition_probability\n",
    "\n",
    "    def get_all_states(self):\n",
    "        return self.all_state\n",
    "\n"
   ]
  },
  {
   "attachments": {},
   "cell_type": "markdown",
   "metadata": {},
   "source": [
    "## Q - Learning Declaration"
   ]
  },
  {
   "cell_type": "code",
   "execution_count": null,
   "metadata": {},
   "outputs": [],
   "source": [
    "def __init__(self, actions):\n",
    "    self.actions = actions\n",
    "    self.step_size = 0.01\n",
    "    self.discount_factor = 0.9\n",
    "    self.epsilon = 0.9\n",
    "    self.q_table = defaultdict(lambda: [0.0, 0.0, 0.0, 0.0])\n",
    "\n",
    "def learn(self, state, action, reward, next_state):\n",
    "    state, next_stae = str(state), str(next_state)\n",
    "    q_1 = self.q_table[state][action]\n",
    "    q_2 = reward + self.discount_factor * max(self.q_table[next_state])\n",
    "    self.q_table[state][action] += self.step_size * (q_2 - q_1)\n",
    "\n",
    "def get_action(self, state):\n",
    "    if np.random.rand() < self.epsilon:\n",
    "        action = np.random.choice(self.actions)\n",
    "    else:\n",
    "        state = str(state)\n",
    "        q_list = self.q_table[state]\n",
    "        action = np.arg_max(q_list)\n",
    "    return action"
   ]
  },
  {
   "cell_type": "code",
   "execution_count": null,
   "metadata": {},
   "outputs": [],
   "source": [
    "env = Env()\n",
    "agent = QLearningAgent(actions = list(range(env.n_actions)))\n",
    "\n",
    "for episode in range(1000):\n",
    "    env.render()\n",
    "\n",
    "    action = agent.get_action(state)\n",
    "\n",
    "    next_state, reward, done = env.step(action)\n",
    "\n",
    "    agent.learn(state, action, reward, next_state)\n",
    "\n",
    "    state = next_state\n",
    "\n",
    "    env.print_value_all(agent.q_table)    "
   ]
  },
  {
   "cell_type": "code",
   "execution_count": null,
   "metadata": {},
   "outputs": [],
   "source": []
  }
 ],
 "metadata": {
  "kernelspec": {
   "display_name": "tf",
   "language": "python",
   "name": "python3"
  },
  "language_info": {
   "codemirror_mode": {
    "name": "ipython",
    "version": 3
   },
   "file_extension": ".py",
   "mimetype": "text/x-python",
   "name": "python",
   "nbconvert_exporter": "python",
   "pygments_lexer": "ipython3",
   "version": "3.8.6"
  },
  "orig_nbformat": 4,
  "vscode": {
   "interpreter": {
    "hash": "8a2fe10a0ff013572275c9869b54e3c34434e6b19f9449f1f3c6bd91dc66c3bd"
   }
  }
 },
 "nbformat": 4,
 "nbformat_minor": 2
}
