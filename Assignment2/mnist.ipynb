{
 "cells": [
  {
   "cell_type": "markdown",
   "metadata": {},
   "source": [
    "## MNIST 데이터셋 다운로드"
   ]
  },
  {
   "cell_type": "code",
   "execution_count": 17,
   "metadata": {},
   "outputs": [],
   "source": [
    "from tensorflow.keras.datasets.mnist import load_data\n",
    "\n",
    "# 텐서플로우 저장소에서 데이터를 다운받습니다.\n",
    "(x_train, y_train), (x_test, y_test) = load_data(path='mnist.npz')"
   ]
  },
  {
   "cell_type": "markdown",
   "metadata": {},
   "source": [
    "## 데이터의 형태 확인하기"
   ]
  },
  {
   "cell_type": "code",
   "execution_count": 18,
   "metadata": {
    "scrolled": true
   },
   "outputs": [
    {
     "name": "stdout",
     "output_type": "stream",
     "text": [
      "(60000, 28, 28) (60000,)\n",
      "[5 0 4 ... 5 6 8]\n",
      "\n",
      "\n",
      "(10000, 28, 28) (10000,)\n",
      "[7 2 1 ... 4 5 6]\n"
     ]
    }
   ],
   "source": [
    "# 훈련 데이터\n",
    "print(x_train.shape, y_train.shape)\n",
    "print(y_train)\n",
    "\n",
    "print('\\n')\n",
    "\n",
    "# 테스트 데이터\n",
    "print(x_test.shape, y_test.shape)\n",
    "print(y_test)"
   ]
  },
  {
   "cell_type": "markdown",
   "metadata": {},
   "source": [
    "## 데이터 그려보기"
   ]
  },
  {
   "cell_type": "code",
   "execution_count": 19,
   "metadata": {},
   "outputs": [
    {
     "data": {
      "image/png": "[encoded data removed]",
      "text/plain": [
       "<Figure size 432x288 with 1 Axes>"
      ]
     },
     "metadata": {
      "needs_background": "light"
     },
     "output_type": "display_data"
    },
    {
     "data": {
      "image/png": "[encoded data removed]",
      "text/plain": [
       "<Figure size 432x288 with 1 Axes>"
      ]
     },
     "metadata": {
      "needs_background": "light"
     },
     "output_type": "display_data"
    },
    {
     "data": {
      "image/png": "[encoded data removed]",
      "text/plain": [
       "<Figure size 432x288 with 1 Axes>"
      ]
     },
     "metadata": {
      "needs_background": "light"
     },
     "output_type": "display_data"
    }
   ],
   "source": [
    "import matplotlib.pyplot as plt\n",
    "import numpy as np\n",
    "np.random.seed(777)\n",
    "\n",
    "sample_size = 3\n",
    "# 0~59999의 범위에서 무작위로 3개의 정수를 뽑습니다.\n",
    "random_idx = np.random.randint(60000, size = sample_size) \n",
    "\n",
    "for idx in random_idx:\n",
    "    img = x_train[idx, :]\n",
    "    label = y_train[idx]\n",
    "    plt.figure()\n",
    "    plt.imshow(img)\n",
    "    plt.title('%dth data, label is %d' % (idx,label), fontsize = 15)"
   ]
  },
  {
   "cell_type": "markdown",
   "metadata": {},
   "source": [
    "## 검증 데이터 만들기"
   ]
  },
  {
   "cell_type": "code",
   "execution_count": 20,
   "metadata": {},
   "outputs": [
    {
     "name": "stdout",
     "output_type": "stream",
     "text": [
      "훈련 데이터:(42000, 28, 28), 레이블:(42000,)\n",
      "검증 데이터:(18000, 28, 28), 레이블:(18000,)\n"
     ]
    }
   ],
   "source": [
    "from sklearn.model_selection import train_test_split\n",
    "\n",
    "# 훈련/테스트 데이터를 0.7/0.3의 비율로 분리합니다.\n",
    "x_train, x_val, y_train, y_val = train_test_split(x_train, y_train, \n",
    "                                                  test_size = 0.3, \n",
    "                                                  random_state = 777)\n",
    "\n",
    "print(f'훈련 데이터:{x_train.shape}, 레이블:{y_train.shape}')\n",
    "print(f'검증 데이터:{x_val.shape}, 레이블:{y_val.shape}')"
   ]
  },
  {
   "cell_type": "markdown",
   "metadata": {},
   "source": [
    "## 모델 입력을 위한 데이터 전처리"
   ]
  },
  {
   "cell_type": "code",
   "execution_count": 21,
   "metadata": {},
   "outputs": [
    {
     "name": "stdout",
     "output_type": "stream",
     "text": [
      "(42000, 784)\n"
     ]
    }
   ],
   "source": [
    "num_x_train = x_train.shape[0]\n",
    "num_x_val = x_val.shape[0]\n",
    "num_x_test = x_test.shape[0]\n",
    "\n",
    "# 모델의 입력으로 사용하기 위한 전처리 과정입니다.\n",
    "x_train = (x_train.reshape((num_x_train, 28 * 28))) / 255\n",
    "x_val = (x_val.reshape((num_x_val, 28 * 28))) / 255\n",
    "x_test = (x_test.reshape((num_x_test, 28 * 28))) / 255\n",
    "\n",
    "print(x_train.shape) # 모델 입력을 위해 데이터를 784차원으로 변경합니다."
   ]
  },
  {
   "cell_type": "markdown",
   "metadata": {},
   "source": [
    "## 모델 입력을 위한 레이블 전처리"
   ]
  },
  {
   "cell_type": "code",
   "execution_count": 22,
   "metadata": {},
   "outputs": [
    {
     "name": "stdout",
     "output_type": "stream",
     "text": [
      "[[0. 0. 1. ... 0. 0. 0.]\n",
      " [0. 0. 0. ... 1. 0. 0.]\n",
      " [0. 0. 0. ... 0. 0. 0.]\n",
      " ...\n",
      " [0. 0. 0. ... 0. 0. 0.]\n",
      " [0. 0. 0. ... 0. 0. 0.]\n",
      " [0. 0. 0. ... 0. 0. 0.]]\n"
     ]
    }
   ],
   "source": [
    "from tensorflow.keras.utils import to_categorical\n",
    "\n",
    "# 각 데이터의 레이블을 범주형 형태로 변경합니다.\n",
    "y_train = to_categorical(y_train)\n",
    "y_val = to_categorical(y_val)\n",
    "y_test = to_categorical(y_test)\n",
    "\n",
    "print(y_train)"
   ]
  },
  {
   "cell_type": "markdown",
   "metadata": {},
   "source": [
    "## 모델 구성하기"
   ]
  },
  {
   "cell_type": "code",
   "execution_count": 23,
   "metadata": {},
   "outputs": [],
   "source": [
    "from tensorflow.keras.models import Sequential\n",
    "from tensorflow.keras.layers import Dense\n",
    "\n",
    "model = Sequential()\n",
    "# 입력 데이터의 형태를 꼭 명시해야 합니다.\n",
    "# 784차원의 데이터를 입력으로 받고, 64개의 출력을 가지는 첫 번째 Dense 층\n",
    "model.add(Dense(64, activation = 'relu', input_shape = (784, )))\n",
    "model.add(Dense(32, activation = 'relu')) # 32개의 출력을 가지는 Dense 층\n",
    "model.add(Dense(10, activation = 'softmax')) # 10개의 출력을 가지는 신경망"
   ]
  },
  {
   "cell_type": "code",
   "execution_count": 24,
   "metadata": {},
   "outputs": [
    {
     "name": "stdout",
     "output_type": "stream",
     "text": [
      "Model: \"sequential_2\"\n",
      "_________________________________________________________________\n",
      " Layer (type)                Output Shape              Param #   \n",
      "=================================================================\n",
      " dense_6 (Dense)             (None, 64)                50240     \n",
      "                                                                 \n",
      " dense_7 (Dense)             (None, 32)                2080      \n",
      "                                                                 \n",
      " dense_8 (Dense)             (None, 10)                330       \n",
      "                                                                 \n",
      "=================================================================\n",
      "Total params: 52,650\n",
      "Trainable params: 52,650\n",
      "Non-trainable params: 0\n",
      "_________________________________________________________________\n"
     ]
    }
   ],
   "source": [
    "model.summary()"
   ]
  },
  {
   "cell_type": "markdown",
   "metadata": {},
   "source": [
    "## 소프트맥스와 시그모이드 값의 비교"
   ]
  },
  {
   "cell_type": "code",
   "execution_count": 25,
   "metadata": {},
   "outputs": [
    {
     "name": "stdout",
     "output_type": "stream",
     "text": [
      "sigmoid [0.957 0.953 0.948], softmax [0.367 0.332 0.301]\n",
      "sigmoid [0.881 0.731 0.668], softmax [0.61  0.224 0.166]\n"
     ]
    }
   ],
   "source": [
    "# 소프트맥스 함수\n",
    "def softmax(arr):\n",
    "    m = np.max(arr)\n",
    "    arr = arr - m # exp의 오버플로우 방지\n",
    "    arr = np.exp(arr)\n",
    "    return arr / np.sum(arr)\n",
    "\n",
    "# 시그모이드 함수\n",
    "def sigmoid(x):\n",
    "    return 1 / (1 + np.exp(-x))\n",
    "\n",
    "case_1 = np.array([3.1, 3.0, 2.9])\n",
    "case_2 = np.array([2.0, 1.0, 0.7])\n",
    "\n",
    "np.set_printoptions(precision=3) # numpy 소수점 제한\n",
    "print(f'sigmoid {sigmoid(case_1)}, softmax {softmax(case_1)}')\n",
    "print(f'sigmoid {sigmoid(case_2)}, softmax {softmax(case_2)}')"
   ]
  },
  {
   "cell_type": "markdown",
   "metadata": {},
   "source": [
    "## 학습과정 설정하기"
   ]
  },
  {
   "cell_type": "code",
   "execution_count": 26,
   "metadata": {},
   "outputs": [],
   "source": [
    "model.compile(optimizer='adam', # 옵티마이저 : Adam\n",
    "              loss = 'categorical_crossentropy', # 손실 함수 : categorical_crossentropy\n",
    "              metrics=['acc']) # 모니터링 할 평가지표 : acc"
   ]
  },
  {
   "cell_type": "markdown",
   "metadata": {},
   "source": [
    "## 모델 학습하기"
   ]
  },
  {
   "cell_type": "code",
   "execution_count": 27,
   "metadata": {
    "scrolled": true
   },
   "outputs": [
    {
     "name": "stdout",
     "output_type": "stream",
     "text": [
      "Epoch 1/30\n"
     ]
    },
    {
     "name": "stderr",
     "output_type": "stream",
     "text": [
      "2022-11-01 13:43:18.963247: I tensorflow/core/grappler/optimizers/custom_graph_optimizer_registry.cc:113] Plugin optimizer for device_type GPU is enabled.\n"
     ]
    },
    {
     "name": "stdout",
     "output_type": "stream",
     "text": [
      "329/329 [==============================] - ETA: 0s - loss: 0.4928 - acc: 0.8647"
     ]
    },
    {
     "name": "stderr",
     "output_type": "stream",
     "text": [
      "2022-11-01 13:43:22.781248: I tensorflow/core/grappler/optimizers/custom_graph_optimizer_registry.cc:113] Plugin optimizer for device_type GPU is enabled.\n"
     ]
    },
    {
     "name": "stdout",
     "output_type": "stream",
     "text": [
      "329/329 [==============================] - 5s 11ms/step - loss: 0.4928 - acc: 0.8647 - val_loss: 0.2467 - val_acc: 0.9298\n",
      "Epoch 2/30\n",
      "329/329 [==============================] - 4s 11ms/step - loss: 0.2122 - acc: 0.9384 - val_loss: 0.1949 - val_acc: 0.9434\n",
      "Epoch 3/30\n",
      "329/329 [==============================] - 4s 11ms/step - loss: 0.1620 - acc: 0.9533 - val_loss: 0.1598 - val_acc: 0.9531\n",
      "Epoch 4/30\n",
      "329/329 [==============================] - 4s 11ms/step - loss: 0.1306 - acc: 0.9618 - val_loss: 0.1454 - val_acc: 0.9568\n",
      "Epoch 5/30\n",
      "329/329 [==============================] - 4s 11ms/step - loss: 0.1082 - acc: 0.9678 - val_loss: 0.1363 - val_acc: 0.9595\n",
      "Epoch 6/30\n",
      "329/329 [==============================] - 4s 11ms/step - loss: 0.0909 - acc: 0.9734 - val_loss: 0.1247 - val_acc: 0.9625\n",
      "Epoch 7/30\n",
      "329/329 [==============================] - 4s 11ms/step - loss: 0.0798 - acc: 0.9760 - val_loss: 0.1227 - val_acc: 0.9642\n",
      "Epoch 8/30\n",
      "329/329 [==============================] - 4s 11ms/step - loss: 0.0694 - acc: 0.9793 - val_loss: 0.1152 - val_acc: 0.9667\n",
      "Epoch 9/30\n",
      "329/329 [==============================] - 4s 11ms/step - loss: 0.0611 - acc: 0.9820 - val_loss: 0.1155 - val_acc: 0.9672\n",
      "Epoch 10/30\n",
      "329/329 [==============================] - 4s 11ms/step - loss: 0.0527 - acc: 0.9843 - val_loss: 0.1165 - val_acc: 0.9662\n",
      "Epoch 11/30\n",
      "329/329 [==============================] - 4s 11ms/step - loss: 0.0463 - acc: 0.9866 - val_loss: 0.1119 - val_acc: 0.9683\n",
      "Epoch 12/30\n",
      "329/329 [==============================] - 4s 11ms/step - loss: 0.0414 - acc: 0.9882 - val_loss: 0.1104 - val_acc: 0.9686\n",
      "Epoch 13/30\n",
      "329/329 [==============================] - 4s 11ms/step - loss: 0.0362 - acc: 0.9890 - val_loss: 0.1084 - val_acc: 0.9702\n",
      "Epoch 14/30\n",
      "329/329 [==============================] - 4s 11ms/step - loss: 0.0331 - acc: 0.9898 - val_loss: 0.1090 - val_acc: 0.9691\n",
      "Epoch 15/30\n",
      "329/329 [==============================] - 4s 11ms/step - loss: 0.0288 - acc: 0.9919 - val_loss: 0.1141 - val_acc: 0.9690\n",
      "Epoch 16/30\n",
      "329/329 [==============================] - 4s 11ms/step - loss: 0.0258 - acc: 0.9926 - val_loss: 0.1149 - val_acc: 0.9700\n",
      "Epoch 17/30\n",
      "329/329 [==============================] - 4s 11ms/step - loss: 0.0228 - acc: 0.9940 - val_loss: 0.1148 - val_acc: 0.9697\n",
      "Epoch 18/30\n",
      "329/329 [==============================] - 4s 11ms/step - loss: 0.0210 - acc: 0.9943 - val_loss: 0.1228 - val_acc: 0.9689\n",
      "Epoch 19/30\n",
      "329/329 [==============================] - 4s 11ms/step - loss: 0.0183 - acc: 0.9950 - val_loss: 0.1156 - val_acc: 0.9706\n",
      "Epoch 20/30\n",
      "329/329 [==============================] - 4s 11ms/step - loss: 0.0164 - acc: 0.9953 - val_loss: 0.1230 - val_acc: 0.9694\n",
      "Epoch 21/30\n",
      "329/329 [==============================] - 4s 11ms/step - loss: 0.0144 - acc: 0.9961 - val_loss: 0.1220 - val_acc: 0.9711\n",
      "Epoch 22/30\n",
      "329/329 [==============================] - 4s 11ms/step - loss: 0.0132 - acc: 0.9968 - val_loss: 0.1201 - val_acc: 0.9707\n",
      "Epoch 23/30\n",
      "329/329 [==============================] - 4s 11ms/step - loss: 0.0114 - acc: 0.9969 - val_loss: 0.1296 - val_acc: 0.9700\n",
      "Epoch 24/30\n",
      "329/329 [==============================] - 4s 11ms/step - loss: 0.0119 - acc: 0.9965 - val_loss: 0.1326 - val_acc: 0.9697\n",
      "Epoch 25/30\n",
      "329/329 [==============================] - 4s 11ms/step - loss: 0.0114 - acc: 0.9964 - val_loss: 0.1338 - val_acc: 0.9702\n",
      "Epoch 26/30\n",
      "329/329 [==============================] - 4s 11ms/step - loss: 0.0064 - acc: 0.9987 - val_loss: 0.1442 - val_acc: 0.9690\n",
      "Epoch 27/30\n",
      "329/329 [==============================] - 4s 11ms/step - loss: 0.0066 - acc: 0.9986 - val_loss: 0.1632 - val_acc: 0.9656\n",
      "Epoch 28/30\n",
      "329/329 [==============================] - 4s 11ms/step - loss: 0.0098 - acc: 0.9971 - val_loss: 0.1605 - val_acc: 0.9654\n",
      "Epoch 29/30\n",
      "329/329 [==============================] - 4s 11ms/step - loss: 0.0092 - acc: 0.9973 - val_loss: 0.1498 - val_acc: 0.9685\n",
      "Epoch 30/30\n",
      "329/329 [==============================] - 4s 11ms/step - loss: 0.0172 - acc: 0.9947 - val_loss: 0.1497 - val_acc: 0.9687\n"
     ]
    }
   ],
   "source": [
    "history = model.fit(x_train, y_train, \n",
    "                    epochs = 30, \n",
    "                    batch_size = 128, \n",
    "                    validation_data = (x_val, y_val))"
   ]
  },
  {
   "cell_type": "code",
   "execution_count": 28,
   "metadata": {},
   "outputs": [
    {
     "data": {
      "text/plain": [
       "dict_keys(['loss', 'acc', 'val_loss', 'val_acc'])"
      ]
     },
     "execution_count": 28,
     "metadata": {},
     "output_type": "execute_result"
    }
   ],
   "source": [
    "history.history.keys()"
   ]
  },
  {
   "cell_type": "markdown",
   "metadata": {},
   "source": [
    "## 학습 결과 그려보기"
   ]
  },
  {
   "cell_type": "code",
   "execution_count": 29,
   "metadata": {},
   "outputs": [
    {
     "data": {
      "image/png": "[encoded data removed]",
      "text/plain": [
       "<Figure size 720x360 with 2 Axes>"
      ]
     },
     "metadata": {
      "needs_background": "light"
     },
     "output_type": "display_data"
    }
   ],
   "source": [
    "import matplotlib.pyplot as plt\n",
    "\n",
    "his_dict = history.history\n",
    "loss = his_dict['loss']\n",
    "val_loss = his_dict['val_loss'] # 검증 데이터가 있는 경우 ‘val_’ 수식어가 붙습니다.\n",
    "\n",
    "epochs = range(1, len(loss) + 1)\n",
    "fig = plt.figure(figsize = (10, 5))\n",
    "\n",
    "# 훈련 및 검증 손실 그리기\n",
    "ax1 = fig.add_subplot(1, 2, 1)\n",
    "ax1.plot(epochs, loss, color = 'blue', label = 'train_loss')\n",
    "ax1.plot(epochs, val_loss, color = 'orange', label = 'val_loss')\n",
    "ax1.set_title('train and val loss')\n",
    "ax1.set_xlabel('epochs')\n",
    "ax1.set_ylabel('loss')\n",
    "ax1.legend()\n",
    "\n",
    "acc = his_dict['acc']\n",
    "val_acc = his_dict['val_acc']\n",
    "\n",
    "# 훈련 및 검증 정확도 그리기\n",
    "ax2 = fig.add_subplot(1, 2, 2)\n",
    "ax2.plot(epochs, acc, color = 'blue', label = 'train_loss')\n",
    "ax2.plot(epochs, val_acc, color = 'orange', label = 'val_loss')\n",
    "ax2.set_title('train and val loss')\n",
    "ax2.set_xlabel('epochs')\n",
    "ax2.set_ylabel('loss')\n",
    "ax2.legend()\n",
    "\n",
    "plt.show()"
   ]
  },
  {
   "cell_type": "markdown",
   "metadata": {},
   "source": [
    "## 모델 평가하기"
   ]
  },
  {
   "cell_type": "code",
   "execution_count": 30,
   "metadata": {},
   "outputs": [
    {
     "name": "stdout",
     "output_type": "stream",
     "text": [
      "313/313 [==============================] - 2s 7ms/step - loss: 0.1354 - acc: 0.9709\n"
     ]
    },
    {
     "data": {
      "text/plain": [
       "[0.13541169464588165, 0.9709000587463379]"
      ]
     },
     "execution_count": 30,
     "metadata": {},
     "output_type": "execute_result"
    }
   ],
   "source": [
    "model.evaluate(x_test, y_test)"
   ]
  },
  {
   "cell_type": "markdown",
   "metadata": {},
   "source": [
    "## 학습된 모델을 통해 값 예측하기"
   ]
  },
  {
   "cell_type": "code",
   "execution_count": 31,
   "metadata": {},
   "outputs": [
    {
     "name": "stderr",
     "output_type": "stream",
     "text": [
      "2022-11-01 13:45:24.563857: I tensorflow/core/grappler/optimizers/custom_graph_optimizer_registry.cc:113] Plugin optimizer for device_type GPU is enabled.\n"
     ]
    },
    {
     "name": "stdout",
     "output_type": "stream",
     "text": [
      "(10000, 10)\n",
      "각 클래스에 속할 확률 : \n",
      "[3.9522799e-12 1.8426970e-13 1.7940469e-09 6.7826824e-09 2.3869133e-14\n",
      " 3.8985823e-10 6.8452227e-20 9.9999952e-01 5.8892436e-08 3.9987617e-07]\n"
     ]
    }
   ],
   "source": [
    "import numpy as np\n",
    "np.set_printoptions(precision=7) # numpy 소수점 제한\n",
    "\n",
    "results = model.predict(x_test)\n",
    "\n",
    "print(results.shape)\n",
    "print(f'각 클래스에 속할 확률 : \\n{results[0]}')"
   ]
  },
  {
   "cell_type": "markdown",
   "metadata": {},
   "source": [
    "## 예측값 그려서 확인해보기"
   ]
  },
  {
   "cell_type": "code",
   "execution_count": 32,
   "metadata": {},
   "outputs": [
    {
     "data": {
      "image/png": "[encoded data removed]",
      "text/plain": [
       "<Figure size 432x288 with 1 Axes>"
      ]
     },
     "metadata": {
      "needs_background": "light"
     },
     "output_type": "display_data"
    }
   ],
   "source": [
    "import matplotlib.pyplot as plt\n",
    "\n",
    "arg_results = np.argmax(results, axis = -1) # 가장 큰 값의 인덱스를 가져옵니다.\n",
    "plt.imshow(x_test[0].reshape(28, 28))\n",
    "plt.title('Predicted value of first image : ' + str(arg_results[0]), fontsize = 15)\n",
    "plt.show()"
   ]
  },
  {
   "cell_type": "markdown",
   "metadata": {},
   "source": [
    "## 모델 평가 방법 1 - 혼동 행렬"
   ]
  },
  {
   "cell_type": "code",
   "execution_count": 34,
   "metadata": {},
   "outputs": [
    {
     "data": {
      "image/png": "[encoded data removed]",
      "text/plain": [
       "<Figure size 504x504 with 2 Axes>"
      ]
     },
     "metadata": {
      "needs_background": "light"
     },
     "output_type": "display_data"
    }
   ],
   "source": [
    "# sklearn.metrics 모듈은 여러가지 평가 지표에 관한 기능을 제공합니다.\n",
    "from sklearn.metrics import classification_report, confusion_matrix\n",
    "import matplotlib.pyplot as plt\n",
    "import seaborn as sns\n",
    "\n",
    "# 혼동 행렬을 만듭니다.\n",
    "plt.figure(figsize = (7, 7))\n",
    "cm = confusion_matrix(np.argmax(y_test, axis = -1), np.argmax(results, axis = -1))\n",
    "sns.heatmap(cm, annot = True, fmt = 'd',cmap = 'Blues')\n",
    "plt.xlabel('predicted label', fontsize = 15)\n",
    "plt.ylabel('true label', fontsize = 15)\n",
    "plt.show()"
   ]
  },
  {
   "cell_type": "markdown",
   "metadata": {},
   "source": [
    "## 모델 평가 방법 2 - 분류 보고서"
   ]
  },
  {
   "cell_type": "code",
   "execution_count": 35,
   "metadata": {},
   "outputs": [
    {
     "name": "stdout",
     "output_type": "stream",
     "text": [
      "\n",
      "               precision    recall  f1-score   support\n",
      "\n",
      "           0       0.98      0.98      0.98       980\n",
      "           1       0.99      0.98      0.99      1135\n",
      "           2       0.98      0.97      0.97      1032\n",
      "           3       0.97      0.97      0.97      1010\n",
      "           4       0.97      0.96      0.97       982\n",
      "           5       0.96      0.97      0.97       892\n",
      "           6       0.98      0.97      0.98       958\n",
      "           7       0.98      0.97      0.97      1028\n",
      "           8       0.95      0.97      0.96       974\n",
      "           9       0.95      0.96      0.96      1009\n",
      "\n",
      "    accuracy                           0.97     10000\n",
      "   macro avg       0.97      0.97      0.97     10000\n",
      "weighted avg       0.97      0.97      0.97     10000\n",
      "\n"
     ]
    }
   ],
   "source": [
    "print('\\n', classification_report(np.argmax(y_test, axis = -1), np.argmax(results, axis = -1)))"
   ]
  },
  {
   "cell_type": "markdown",
   "metadata": {},
   "source": [
    "## 모델 저장"
   ]
  },
  {
   "cell_type": "code",
   "execution_count": 36,
   "metadata": {},
   "outputs": [],
   "source": [
    "import h5py as h5\n",
    "\n",
    "model.save(\"mnist_detection.h5\")"
   ]
  },
  {
   "cell_type": "markdown",
   "metadata": {},
   "source": [
    "## 전체 코드"
   ]
  },
  {
   "cell_type": "code",
   "execution_count": null,
   "metadata": {},
   "outputs": [],
   "source": [
    "import tensorflow as tf\n",
    "from keras.datasets.mnist import load_data\n",
    "from keras.models import Sequential\n",
    "from keras.layers import Dense\n",
    "from keras.utils import to_categorical\n",
    "\n",
    "from sklearn.model_selection import train_test_split\n",
    "tf.random.set_seed(777)\n",
    "\n",
    "(x_train, y_train), (x_test, y_test) = load_data(path='mnist.npz')\n",
    "\n",
    "x_train, x_val, y_train, y_val = train_test_split(x_train, y_train, \n",
    "                                                  test_size = 0.3, \n",
    "                                                  random_state = 777)\n",
    "\n",
    "num_x_train = x_train.shape[0]\n",
    "num_x_val = x_val.shape[0]\n",
    "num_x_test = x_test.shape[0]\n",
    "\n",
    "x_train = (x_train.reshape((num_x_train, 28 * 28))) / 255\n",
    "x_val = (x_val.reshape((num_x_val, 28 * 28))) / 255\n",
    "x_test = (x_test.reshape((num_x_test, 28 * 28))) / 255\n",
    "\n",
    "y_train = to_categorical(y_train)\n",
    "y_val = to_categorical(y_val)\n",
    "y_test = to_categorical(y_test)\n",
    "\n",
    "model = Sequential()\n",
    "model.add(Dense(64, activation = 'relu', input_shape = (784, )))\n",
    "model.add(Dense(32, activation = 'relu'))\n",
    "model.add(Dense(10, activation = 'softmax'))\n",
    "\n",
    "model.compile(optimizer='adam', \n",
    "              loss = 'categorical_crossentropy', \n",
    "              metrics=['acc'])\n",
    "\n",
    "history = model.fit(x_train, y_train, \n",
    "                    epochs = 30, \n",
    "                    batch_size = 128, \n",
    "                    validation_data = (x_val, y_val))\n",
    "\n",
    "# model.evaluate(x_test, y_test)\n",
    "results = model.predict(x_test)"
   ]
  }
 ],
 "metadata": {
  "kernelspec": {
   "display_name": "Python 3.8.11 ('tf')",
   "language": "python",
   "name": "python3"
  },
  "language_info": {
   "codemirror_mode": {
    "name": "ipython",
    "version": 3
   },
   "file_extension": ".py",
   "mimetype": "text/x-python",
   "name": "python",
   "nbconvert_exporter": "python",
   "pygments_lexer": "ipython3",
   "version": "3.8.11"
  },
  "vscode": {
   "interpreter": {
    "hash": "52ee2977380704a66854748a73250e0671a9318bd5b3fd45a3df9f851ae61629"
   }
  }
 },
 "nbformat": 4,
 "nbformat_minor": 2
}
