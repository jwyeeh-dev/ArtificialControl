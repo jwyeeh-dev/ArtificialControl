{
 "cells": [
  {
   "cell_type": "markdown",
   "metadata": {},
   "source": [
    "### 1. Data Preprocessing"
   ]
  },
  {
   "cell_type": "code",
   "execution_count": 319,
   "metadata": {},
   "outputs": [],
   "source": [
    "import numpy as np\n",
    "import pandas as pd\n",
    "import tensorflow as tf\n",
    "tf.random.set_seed(777)"
   ]
  },
  {
   "cell_type": "code",
   "execution_count": 320,
   "metadata": {},
   "outputs": [],
   "source": [
    "# downloading the MNIST data from keras dataset packages\n",
    "(x_train, y_train), (x_test, y_test) = tf.keras.datasets.mnist.load_data()"
   ]
  },
  {
   "cell_type": "code",
   "execution_count": 321,
   "metadata": {},
   "outputs": [
    {
     "name": "stdout",
     "output_type": "stream",
     "text": [
      "(60000, 28, 28) (60000,)\n",
      "[5 0 4 ... 5 6 8]\n",
      "\n",
      "\n",
      "(10000, 28, 28) (10000,)\n",
      "[7 2 1 ... 4 5 6]\n"
     ]
    }
   ],
   "source": [
    "\n",
    "# training data\n",
    "print(x_train.shape, y_train.shape)\n",
    "print(y_train)\n",
    "\n",
    "print('\\n')\n",
    "\n",
    "# test data\n",
    "print(x_test.shape, y_test.shape)\n",
    "print(y_test)"
   ]
  },
  {
   "cell_type": "code",
   "execution_count": 322,
   "metadata": {},
   "outputs": [
    {
     "data": {
      "image/png": "[encoded data removed]",
      "text/plain": [
       "<Figure size 432x288 with 1 Axes>"
      ]
     },
     "metadata": {
      "needs_background": "light"
     },
     "output_type": "display_data"
    },
    {
     "data": {
      "image/png": "[encoded data removed]",
      "text/plain": [
       "<Figure size 432x288 with 1 Axes>"
      ]
     },
     "metadata": {
      "needs_background": "light"
     },
     "output_type": "display_data"
    },
    {
     "data": {
      "image/png": "[encoded data removed]",
      "text/plain": [
       "<Figure size 432x288 with 1 Axes>"
      ]
     },
     "metadata": {
      "needs_background": "light"
     },
     "output_type": "display_data"
    }
   ],
   "source": [
    "import matplotlib.pyplot as plt\n",
    "import numpy as np\n",
    "np.random.seed(546)\n",
    "\n",
    "sample_size = 3\n",
    "# 0~59999의 범위에서 무작위로 3개의 정수를 뽑습니다.\n",
    "random_idx = np.random.randint(60000, size = sample_size) \n",
    "\n",
    "for idx in random_idx:\n",
    "    img = x_train[idx, :]\n",
    "    label = y_train[idx]\n",
    "    plt.figure()\n",
    "    plt.imshow(img)\n",
    "    plt.title('%dth data, label is %d' % (idx,label), fontsize = 15)"
   ]
  },
  {
   "cell_type": "code",
   "execution_count": 323,
   "metadata": {},
   "outputs": [],
   "source": [
    "\n",
    "num_x_train = x_train.shape[0]\n",
    "num_x_test = x_test.shape[0]\n",
    "\n",
    "# input preprocessing\n",
    "\n",
    "# Scale images to the [0, 1] range\n",
    "x_train = x_train.astype(\"float32\") / 255\n",
    "x_test = x_test.astype(\"float32\") / 255\n",
    "\n",
    "# Make sure images have shape (28, 28, 1)\n",
    "x_train = np.expand_dims(x_train, -1)\n",
    "x_test = np.expand_dims(x_test, -1)\n",
    "\n"
   ]
  },
  {
   "cell_type": "code",
   "execution_count": 324,
   "metadata": {},
   "outputs": [
    {
     "name": "stdout",
     "output_type": "stream",
     "text": [
      "(60000, 28, 28, 1)\n"
     ]
    }
   ],
   "source": [
    "print(x_train.shape)"
   ]
  },
  {
   "cell_type": "code",
   "execution_count": 325,
   "metadata": {},
   "outputs": [],
   "source": [
    "# One-hot encoding about labels\n",
    "\n",
    "y_train = tf.keras.utils.to_categorical(y_train)\n",
    "y_test = tf.keras.utils.to_categorical(y_test)\n",
    "\n"
   ]
  },
  {
   "cell_type": "code",
   "execution_count": 326,
   "metadata": {},
   "outputs": [
    {
     "name": "stdout",
     "output_type": "stream",
     "text": [
      "(60000, 10)\n"
     ]
    }
   ],
   "source": [
    "print(y_train.shape)"
   ]
  },
  {
   "cell_type": "markdown",
   "metadata": {},
   "source": [
    "### 2. CNN Model declaration"
   ]
  },
  {
   "cell_type": "code",
   "execution_count": 328,
   "metadata": {},
   "outputs": [],
   "source": [
    "model = tf.keras.models.Sequential()\n",
    "\n",
    "model.add(tf.keras.layers.Conv2D(filters = 32, kernel_size = 5, strides = 1, padding = 'same', activation = 'relu'))\n",
    "model.add(tf.keras.layers.MaxPool2D(pool_size = (2,2), strides = 2))\n",
    "model.add(tf.keras.layers.Conv2D(filters = 64, kernel_size = 5, strides = 1, padding = 'same', activation = 'relu'))\n",
    "model.add(tf.keras.layers.MaxPool2D(pool_size = (2,2), strides = 2))\n",
    "model.add(tf.keras.layers.Flatten())\n",
    "model.add(tf.keras.layers.Dense(1024, activation = 'relu'))\n",
    "model.add(tf.keras.layers.Dense(10, activation = 'softmax'))"
   ]
  },
  {
   "cell_type": "markdown",
   "metadata": {},
   "source": [
    "### 3. Loss Function and Optim function declarations"
   ]
  },
  {
   "cell_type": "code",
   "execution_count": 329,
   "metadata": {},
   "outputs": [],
   "source": [
    "\n",
    "# delaration loss function\n",
    "@tf.function\n",
    "def cross_entropy_loss(logits, y):\n",
    "    return tf.reduce_mean(tf.nn.softmax_cross_entropy_with_logits(logits=logits, labels=y))\n",
    "\n",
    "# delaration optimizer function\n",
    "optimizer = tf.optimizers.Adam(1e-4)\n",
    "\n",
    "# delaration optimizing steps in CNN\n",
    "@tf.function\n",
    "def train_step(model, x, y):\n",
    "    with tf.GradientTape() as tape:\n",
    "        y_pred, logits = model(x)\n",
    "        loss = cross_entropy_loss(logits, y)\n",
    "    gradients = tape.gradient(loss, model.trainable_variables) # trainable gradient using\n",
    "    optimizer.apply_gradients(zip(gradients, model.trainable_variables)) #to use updated trainable gradients in model\n",
    "\n",
    "# declaration of computing accuracy\n",
    "@tf.function\n",
    "def compute_accuracy(y_pred, y):\n",
    "    correct_prediction = tf.equal(tf.argmax(y_pred,1), tf.argmax(y,1))\n",
    "    accuracy = tf.reduce_mean(tf.cast(correct_prediction, tf.float32))\n",
    "    return accuracy\n"
   ]
  },
  {
   "cell_type": "markdown",
   "metadata": {},
   "source": [
    "### 4. model learning execution"
   ]
  },
  {
   "cell_type": "code",
   "execution_count": 330,
   "metadata": {},
   "outputs": [],
   "source": [
    "\n",
    "model.compile(optimizer= 'adam',\n",
    "              loss = 'categorical_crossentropy', \n",
    "              metrics=['accuracy'])"
   ]
  },
  {
   "cell_type": "code",
   "execution_count": 331,
   "metadata": {},
   "outputs": [
    {
     "name": "stdout",
     "output_type": "stream",
     "text": [
      "Epoch 1/50\n"
     ]
    },
    {
     "name": "stderr",
     "output_type": "stream",
     "text": [
      "2022-11-08 14:21:47.508263: I tensorflow/core/grappler/optimizers/custom_graph_optimizer_registry.cc:113] Plugin optimizer for device_type GPU is enabled.\n"
     ]
    },
    {
     "name": "stdout",
     "output_type": "stream",
     "text": [
      "140/140 [==============================] - ETA: 0s - loss: 0.2395 - accuracy: 0.9269"
     ]
    },
    {
     "name": "stderr",
     "output_type": "stream",
     "text": [
      "2022-11-08 14:21:52.967728: I tensorflow/core/grappler/optimizers/custom_graph_optimizer_registry.cc:113] Plugin optimizer for device_type GPU is enabled.\n"
     ]
    },
    {
     "name": "stdout",
     "output_type": "stream",
     "text": [
      "140/140 [==============================] - 7s 44ms/step - loss: 0.2395 - accuracy: 0.9269 - val_loss: 0.0781 - val_accuracy: 0.9763\n",
      "Epoch 2/50\n",
      "140/140 [==============================] - 6s 42ms/step - loss: 0.0543 - accuracy: 0.9830 - val_loss: 0.0517 - val_accuracy: 0.9852\n",
      "Epoch 3/50\n",
      "140/140 [==============================] - 6s 42ms/step - loss: 0.0373 - accuracy: 0.9881 - val_loss: 0.0510 - val_accuracy: 0.9854\n",
      "Epoch 4/50\n",
      "140/140 [==============================] - 6s 46ms/step - loss: 0.0278 - accuracy: 0.9910 - val_loss: 0.0470 - val_accuracy: 0.9864\n",
      "Epoch 5/50\n",
      "140/140 [==============================] - 6s 45ms/step - loss: 0.0198 - accuracy: 0.9934 - val_loss: 0.0408 - val_accuracy: 0.9883\n",
      "Epoch 6/50\n",
      "140/140 [==============================] - 6s 43ms/step - loss: 0.0140 - accuracy: 0.9954 - val_loss: 0.0412 - val_accuracy: 0.9881\n",
      "Epoch 7/50\n",
      "140/140 [==============================] - 6s 44ms/step - loss: 0.0133 - accuracy: 0.9956 - val_loss: 0.0494 - val_accuracy: 0.9874\n",
      "Epoch 8/50\n",
      "140/140 [==============================] - 6s 42ms/step - loss: 0.0095 - accuracy: 0.9966 - val_loss: 0.0430 - val_accuracy: 0.9887\n",
      "Epoch 9/50\n",
      "140/140 [==============================] - 6s 42ms/step - loss: 0.0066 - accuracy: 0.9979 - val_loss: 0.0392 - val_accuracy: 0.9908\n",
      "Epoch 10/50\n",
      "140/140 [==============================] - 6s 42ms/step - loss: 0.0045 - accuracy: 0.9985 - val_loss: 0.0391 - val_accuracy: 0.9911\n",
      "Epoch 11/50\n",
      "140/140 [==============================] - 6s 42ms/step - loss: 0.0043 - accuracy: 0.9985 - val_loss: 0.0541 - val_accuracy: 0.9876\n",
      "Epoch 12/50\n",
      "140/140 [==============================] - 6s 42ms/step - loss: 0.0061 - accuracy: 0.9976 - val_loss: 0.0454 - val_accuracy: 0.9884\n",
      "Epoch 13/50\n",
      "140/140 [==============================] - 6s 42ms/step - loss: 0.0034 - accuracy: 0.9989 - val_loss: 0.0486 - val_accuracy: 0.9889\n",
      "Epoch 14/50\n",
      "140/140 [==============================] - 6s 42ms/step - loss: 0.0049 - accuracy: 0.9985 - val_loss: 0.0528 - val_accuracy: 0.9890\n",
      "Epoch 15/50\n",
      "140/140 [==============================] - 6s 44ms/step - loss: 0.0031 - accuracy: 0.9992 - val_loss: 0.0585 - val_accuracy: 0.9879\n",
      "Epoch 16/50\n",
      "140/140 [==============================] - 6s 42ms/step - loss: 0.0060 - accuracy: 0.9981 - val_loss: 0.0468 - val_accuracy: 0.9899\n",
      "Epoch 17/50\n",
      "140/140 [==============================] - 6s 42ms/step - loss: 0.0030 - accuracy: 0.9992 - val_loss: 0.0457 - val_accuracy: 0.9900\n",
      "Epoch 18/50\n",
      "140/140 [==============================] - 6s 42ms/step - loss: 7.1503e-04 - accuracy: 0.9998 - val_loss: 0.0451 - val_accuracy: 0.9907\n",
      "Epoch 19/50\n",
      "140/140 [==============================] - 6s 42ms/step - loss: 5.5882e-04 - accuracy: 0.9999 - val_loss: 0.0512 - val_accuracy: 0.9908\n",
      "Epoch 20/50\n",
      "140/140 [==============================] - 6s 42ms/step - loss: 0.0022 - accuracy: 0.9994 - val_loss: 0.0563 - val_accuracy: 0.9888\n",
      "Epoch 21/50\n",
      "140/140 [==============================] - 6s 42ms/step - loss: 0.0080 - accuracy: 0.9975 - val_loss: 0.0457 - val_accuracy: 0.9899\n",
      "Epoch 22/50\n",
      "140/140 [==============================] - 6s 42ms/step - loss: 0.0084 - accuracy: 0.9973 - val_loss: 0.0486 - val_accuracy: 0.9892\n",
      "Epoch 23/50\n",
      "140/140 [==============================] - 6s 42ms/step - loss: 0.0024 - accuracy: 0.9993 - val_loss: 0.0693 - val_accuracy: 0.9874\n",
      "Epoch 24/50\n",
      "140/140 [==============================] - 6s 42ms/step - loss: 0.0044 - accuracy: 0.9985 - val_loss: 0.0452 - val_accuracy: 0.9905\n",
      "Epoch 25/50\n",
      "140/140 [==============================] - 6s 42ms/step - loss: 0.0011 - accuracy: 0.9997 - val_loss: 0.0483 - val_accuracy: 0.9909\n",
      "Epoch 26/50\n",
      "140/140 [==============================] - 6s 42ms/step - loss: 1.5665e-04 - accuracy: 1.0000 - val_loss: 0.0512 - val_accuracy: 0.9917\n",
      "Epoch 27/50\n",
      "140/140 [==============================] - 6s 43ms/step - loss: 6.0798e-05 - accuracy: 1.0000 - val_loss: 0.0503 - val_accuracy: 0.9918\n",
      "Epoch 28/50\n",
      "140/140 [==============================] - 6s 42ms/step - loss: 1.6873e-05 - accuracy: 1.0000 - val_loss: 0.0509 - val_accuracy: 0.9919\n",
      "Epoch 29/50\n",
      "140/140 [==============================] - 7s 47ms/step - loss: 1.2708e-05 - accuracy: 1.0000 - val_loss: 0.0516 - val_accuracy: 0.9919\n",
      "Epoch 30/50\n",
      "140/140 [==============================] - 6s 42ms/step - loss: 1.0267e-05 - accuracy: 1.0000 - val_loss: 0.0520 - val_accuracy: 0.9919\n",
      "Epoch 31/50\n",
      "140/140 [==============================] - 6s 43ms/step - loss: 8.4789e-06 - accuracy: 1.0000 - val_loss: 0.0526 - val_accuracy: 0.9919\n",
      "Epoch 32/50\n",
      "140/140 [==============================] - 6s 42ms/step - loss: 7.1637e-06 - accuracy: 1.0000 - val_loss: 0.0529 - val_accuracy: 0.9920\n",
      "Epoch 33/50\n",
      "140/140 [==============================] - 6s 42ms/step - loss: 6.1651e-06 - accuracy: 1.0000 - val_loss: 0.0533 - val_accuracy: 0.9921\n",
      "Epoch 34/50\n",
      "140/140 [==============================] - 6s 42ms/step - loss: 5.3362e-06 - accuracy: 1.0000 - val_loss: 0.0537 - val_accuracy: 0.9920\n",
      "Epoch 35/50\n",
      "140/140 [==============================] - 6s 43ms/step - loss: 4.6913e-06 - accuracy: 1.0000 - val_loss: 0.0541 - val_accuracy: 0.9920\n",
      "Epoch 36/50\n",
      "140/140 [==============================] - 6s 43ms/step - loss: 4.1705e-06 - accuracy: 1.0000 - val_loss: 0.0545 - val_accuracy: 0.9921\n",
      "Epoch 37/50\n",
      "140/140 [==============================] - 6s 43ms/step - loss: 3.7170e-06 - accuracy: 1.0000 - val_loss: 0.0550 - val_accuracy: 0.9922\n",
      "Epoch 38/50\n",
      "140/140 [==============================] - 6s 42ms/step - loss: 3.3358e-06 - accuracy: 1.0000 - val_loss: 0.0552 - val_accuracy: 0.9920\n",
      "Epoch 39/50\n",
      "140/140 [==============================] - 6s 42ms/step - loss: 3.0146e-06 - accuracy: 1.0000 - val_loss: 0.0557 - val_accuracy: 0.9923\n",
      "Epoch 40/50\n",
      "140/140 [==============================] - 6s 43ms/step - loss: 2.7106e-06 - accuracy: 1.0000 - val_loss: 0.0560 - val_accuracy: 0.9922\n",
      "Epoch 41/50\n",
      "140/140 [==============================] - 6s 42ms/step - loss: 2.4616e-06 - accuracy: 1.0000 - val_loss: 0.0564 - val_accuracy: 0.9922\n",
      "Epoch 42/50\n",
      "140/140 [==============================] - 6s 42ms/step - loss: 2.2483e-06 - accuracy: 1.0000 - val_loss: 0.0567 - val_accuracy: 0.9921\n",
      "Epoch 43/50\n",
      "140/140 [==============================] - 6s 42ms/step - loss: 2.0344e-06 - accuracy: 1.0000 - val_loss: 0.0571 - val_accuracy: 0.9922\n",
      "Epoch 44/50\n",
      "140/140 [==============================] - 6s 42ms/step - loss: 1.8877e-06 - accuracy: 1.0000 - val_loss: 0.0576 - val_accuracy: 0.9923\n",
      "Epoch 45/50\n",
      "140/140 [==============================] - 6s 42ms/step - loss: 1.7204e-06 - accuracy: 1.0000 - val_loss: 0.0578 - val_accuracy: 0.9923\n",
      "Epoch 46/50\n",
      "140/140 [==============================] - 6s 42ms/step - loss: 1.5653e-06 - accuracy: 1.0000 - val_loss: 0.0583 - val_accuracy: 0.9922\n",
      "Epoch 47/50\n",
      "140/140 [==============================] - 6s 42ms/step - loss: 1.4249e-06 - accuracy: 1.0000 - val_loss: 0.0585 - val_accuracy: 0.9923\n",
      "Epoch 48/50\n",
      "140/140 [==============================] - 6s 42ms/step - loss: 1.3309e-06 - accuracy: 1.0000 - val_loss: 0.0590 - val_accuracy: 0.9922\n",
      "Epoch 49/50\n",
      "140/140 [==============================] - 6s 42ms/step - loss: 1.2204e-06 - accuracy: 1.0000 - val_loss: 0.0592 - val_accuracy: 0.9923\n",
      "Epoch 50/50\n",
      "140/140 [==============================] - 6s 42ms/step - loss: 1.1373e-06 - accuracy: 1.0000 - val_loss: 0.0598 - val_accuracy: 0.9923\n"
     ]
    }
   ],
   "source": [
    "epochs = 50\n",
    "batch_size = 300\n",
    "\n",
    "history = model.fit(x_train, y_train, epochs = epochs, batch_size = batch_size, validation_split= 0.3)"
   ]
  },
  {
   "cell_type": "code",
   "execution_count": 332,
   "metadata": {},
   "outputs": [
    {
     "data": {
      "text/plain": [
       "dict_keys(['loss', 'accuracy', 'val_loss', 'val_accuracy'])"
      ]
     },
     "execution_count": 332,
     "metadata": {},
     "output_type": "execute_result"
    }
   ],
   "source": [
    "history.history.keys()"
   ]
  },
  {
   "cell_type": "markdown",
   "metadata": {},
   "source": [
    "### 5. model result plotting"
   ]
  },
  {
   "cell_type": "code",
   "execution_count": 334,
   "metadata": {},
   "outputs": [
    {
     "data": {
      "image/png": "[encoded data removed]",
      "text/plain": [
       "<Figure size 1440x720 with 2 Axes>"
      ]
     },
     "metadata": {
      "needs_background": "light"
     },
     "output_type": "display_data"
    }
   ],
   "source": [
    "import matplotlib.pyplot as plt\n",
    "\n",
    "his_dict = history.history\n",
    "loss = his_dict['loss']\n",
    "val_loss = his_dict['val_loss'] # 검증 데이터가 있는 경우 ‘val_’ 수식어가 붙습니다.\n",
    "\n",
    "epochs = range(1, len(loss) + 1)\n",
    "fig = plt.figure(figsize = (20, 10))\n",
    "\n",
    "# 훈련 및 검증 손실 그리기\n",
    "ax1 = fig.add_subplot(1, 2, 1)\n",
    "ax1.plot(epochs, loss, color = 'blue', label = 'train_loss')\n",
    "ax1.plot(epochs, val_loss, color = 'orange', label = 'val_loss')\n",
    "ax1.set_title('train and val loss')\n",
    "ax1.set_xlabel('epochs')\n",
    "ax1.set_ylabel('loss')\n",
    "ax1.legend()\n",
    "\n",
    "acc = his_dict['accuracy']\n",
    "val_acc = his_dict['val_accuracy']\n",
    "\n",
    "# 훈련 및 검증 정확도 그리기\n",
    "ax2 = fig.add_subplot(1, 2, 2)\n",
    "ax2.plot(epochs, acc, color = 'blue', label = 'train_acc')\n",
    "ax2.plot(epochs, val_acc, color = 'orange', label = 'val_acc')\n",
    "ax2.set_title('train and val acc')\n",
    "ax2.set_xlabel('epochs')\n",
    "ax2.set_ylabel('acc')\n",
    "ax2.legend()\n",
    "\n",
    "plt.show()\n"
   ]
  },
  {
   "cell_type": "markdown",
   "metadata": {},
   "source": [
    "### 6. Evaluate model"
   ]
  },
  {
   "cell_type": "code",
   "execution_count": 335,
   "metadata": {},
   "outputs": [
    {
     "name": "stdout",
     "output_type": "stream",
     "text": [
      "  1/313 [..............................] - ETA: 1:01 - loss: 8.0564e-07 - accuracy: 1.0000"
     ]
    },
    {
     "name": "stderr",
     "output_type": "stream",
     "text": [
      "2022-11-08 14:27:57.592883: I tensorflow/core/grappler/optimizers/custom_graph_optimizer_registry.cc:113] Plugin optimizer for device_type GPU is enabled.\n"
     ]
    },
    {
     "name": "stdout",
     "output_type": "stream",
     "text": [
      "313/313 [==============================] - 3s 9ms/step - loss: 0.0353 - accuracy: 0.9940\n"
     ]
    },
    {
     "data": {
      "text/plain": [
       "[0.03525146469473839, 0.9940000176429749]"
      ]
     },
     "execution_count": 335,
     "metadata": {},
     "output_type": "execute_result"
    }
   ],
   "source": [
    "model.evaluate(x_test, y_test)"
   ]
  },
  {
   "cell_type": "code",
   "execution_count": 342,
   "metadata": {},
   "outputs": [
    {
     "name": "stdout",
     "output_type": "stream",
     "text": [
      "(10000, 10)\n",
      "각 클래스에 속할 확률 : \n",
      "[6.5232067e-25 3.4694840e-22 5.1075992e-21 1.1828889e-18 8.0093024e-30\n",
      " 2.4225926e-24 1.7455004e-34 1.0000000e+00 2.6605202e-23 5.6960324e-16]\n"
     ]
    }
   ],
   "source": [
    "import numpy as np\n",
    "np.set_printoptions(precision=7) # numpy set precisions\n",
    "\n",
    "results = model.predict(x_test)\n",
    "\n",
    "print(results.shape)\n",
    "\n",
    "print(f'각 클래스에 속할 확률 : \\n{results[0]}')"
   ]
  },
  {
   "cell_type": "code",
   "execution_count": 343,
   "metadata": {},
   "outputs": [
    {
     "data": {
      "image/png": "[encoded data removed]",
      "text/plain": [
       "<Figure size 432x288 with 1 Axes>"
      ]
     },
     "metadata": {
      "needs_background": "light"
     },
     "output_type": "display_data"
    }
   ],
   "source": [
    "import matplotlib.pyplot as plt\n",
    "\n",
    "arg_results = np.argmax(results, axis = -1) # 가장 큰 값의 인덱스를 가져옵니다.\n",
    "plt.imshow(x_test[0].reshape(28, 28))\n",
    "plt.title('Predicted value of first image : ' + str(arg_results[0]), fontsize = 15)\n",
    "plt.show()"
   ]
  },
  {
   "cell_type": "code",
   "execution_count": 344,
   "metadata": {},
   "outputs": [
    {
     "data": {
      "image/png": "[encoded data removed]",
      "text/plain": [
       "<Figure size 720x720 with 2 Axes>"
      ]
     },
     "metadata": {
      "needs_background": "light"
     },
     "output_type": "display_data"
    }
   ],
   "source": [
    "from sklearn.metrics import classification_report, confusion_matrix\n",
    "import matplotlib.pyplot as plt\n",
    "import seaborn as sns\n",
    "\n",
    "\n",
    "plt.figure(figsize = (10, 10))\n",
    "cm = confusion_matrix(np.argmax(y_test, axis = -1), np.argmax(results, axis = -1))\n",
    "sns.heatmap(cm, annot = True, fmt = 'd',cmap = 'Blues')\n",
    "plt.xlabel('predicted label', fontsize = 15)\n",
    "plt.ylabel('true label', fontsize = 15)\n",
    "plt.show()"
   ]
  },
  {
   "cell_type": "code",
   "execution_count": 345,
   "metadata": {},
   "outputs": [
    {
     "name": "stdout",
     "output_type": "stream",
     "text": [
      "\n",
      "               precision    recall  f1-score   support\n",
      "\n",
      "           0       0.99      1.00      1.00       980\n",
      "           1       1.00      1.00      1.00      1135\n",
      "           2       0.99      0.99      0.99      1032\n",
      "           3       0.99      1.00      1.00      1010\n",
      "           4       0.99      0.99      0.99       982\n",
      "           5       0.99      0.99      0.99       892\n",
      "           6       1.00      0.99      0.99       958\n",
      "           7       0.99      1.00      0.99      1028\n",
      "           8       0.99      0.99      0.99       974\n",
      "           9       1.00      0.99      0.99      1009\n",
      "\n",
      "    accuracy                           0.99     10000\n",
      "   macro avg       0.99      0.99      0.99     10000\n",
      "weighted avg       0.99      0.99      0.99     10000\n",
      "\n"
     ]
    }
   ],
   "source": [
    "print('\\n', classification_report(np.argmax(y_test, axis = -1), np.argmax(results, axis = -1)))"
   ]
  },
  {
   "cell_type": "code",
   "execution_count": null,
   "metadata": {},
   "outputs": [],
   "source": []
  },
  {
   "cell_type": "code",
   "execution_count": 346,
   "metadata": {},
   "outputs": [],
   "source": [
    "import h5py as h5\n",
    "model.save(\"mnist_detection_cnn.h5\")"
   ]
  },
  {
   "cell_type": "code",
   "execution_count": null,
   "metadata": {},
   "outputs": [],
   "source": []
  }
 ],
 "metadata": {
  "kernelspec": {
   "display_name": "Python 3.8.11 ('tf')",
   "language": "python",
   "name": "python3"
  },
  "language_info": {
   "codemirror_mode": {
    "name": "ipython",
    "version": 3
   },
   "file_extension": ".py",
   "mimetype": "text/x-python",
   "name": "python",
   "nbconvert_exporter": "python",
   "pygments_lexer": "ipython3",
   "version": "3.8.11"
  },
  "orig_nbformat": 4,
  "vscode": {
   "interpreter": {
    "hash": "52ee2977380704a66854748a73250e0671a9318bd5b3fd45a3df9f851ae61629"
   }
  }
 },
 "nbformat": 4,
 "nbformat_minor": 2
}
