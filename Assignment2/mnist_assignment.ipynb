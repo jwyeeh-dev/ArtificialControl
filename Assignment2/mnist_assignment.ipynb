{
 "cells": [
  {
   "cell_type": "markdown",
   "metadata": {},
   "source": [
    "### 1. Data Preprocessing"
   ]
  },
  {
   "cell_type": "code",
   "execution_count": 45,
   "metadata": {},
   "outputs": [],
   "source": [
    "import numpy as np\n",
    "import pandas as pd\n",
    "import tensorflow as tf\n",
    "tf.random.set_seed(777)"
   ]
  },
  {
   "cell_type": "code",
   "execution_count": 46,
   "metadata": {},
   "outputs": [],
   "source": [
    "# downloading the MNIST data from keras dataset packages\n",
    "(x_train, y_train), (x_test, y_test) = tf.keras.datasets.mnist.load_data()"
   ]
  },
  {
   "cell_type": "code",
   "execution_count": 47,
   "metadata": {},
   "outputs": [
    {
     "name": "stdout",
     "output_type": "stream",
     "text": [
      "(60000, 28, 28) (60000,)\n",
      "[5 0 4 ... 5 6 8]\n",
      "\n",
      "\n",
      "(10000, 28, 28) (10000,)\n",
      "[7 2 1 ... 4 5 6]\n"
     ]
    }
   ],
   "source": [
    "\n",
    "# training data\n",
    "print(x_train.shape, y_train.shape)\n",
    "print(y_train)\n",
    "\n",
    "print('\\n')\n",
    "\n",
    "# test data\n",
    "print(x_test.shape, y_test.shape)\n",
    "print(y_test)"
   ]
  },
  {
   "cell_type": "code",
   "execution_count": 48,
   "metadata": {},
   "outputs": [
    {
     "data": {
      "image/png": "[encoded data removed]",
      "text/plain": [
       "<Figure size 432x288 with 1 Axes>"
      ]
     },
     "metadata": {
      "needs_background": "light"
     },
     "output_type": "display_data"
    },
    {
     "data": {
      "image/png": "[encoded data removed]",
      "text/plain": [
       "<Figure size 432x288 with 1 Axes>"
      ]
     },
     "metadata": {
      "needs_background": "light"
     },
     "output_type": "display_data"
    },
    {
     "data": {
      "image/png": "[encoded data removed]",
      "text/plain": [
       "<Figure size 432x288 with 1 Axes>"
      ]
     },
     "metadata": {
      "needs_background": "light"
     },
     "output_type": "display_data"
    }
   ],
   "source": [
    "import matplotlib.pyplot as plt\n",
    "import numpy as np\n",
    "np.random.seed(777)\n",
    "\n",
    "sample_size = 3\n",
    "# 0~59999의 범위에서 무작위로 3개의 정수를 뽑습니다.\n",
    "random_idx = np.random.randint(60000, size = sample_size) \n",
    "\n",
    "for idx in random_idx:\n",
    "    img = x_train[idx, :]\n",
    "    label = y_train[idx]\n",
    "    plt.figure()\n",
    "    plt.imshow(img)\n",
    "    plt.title('%dth data, label is %d' % (idx,label), fontsize = 15)"
   ]
  },
  {
   "cell_type": "code",
   "execution_count": 49,
   "metadata": {},
   "outputs": [],
   "source": [
    "\n",
    "num_x_train = x_train.shape[0]\n",
    "num_x_test = x_test.shape[0]\n",
    "\n",
    "# input preprocessing\n",
    "\n",
    "# Scale images to the [0, 1] range\n",
    "x_train = x_train.astype(\"float32\") / 255\n",
    "x_test = x_test.astype(\"float32\") / 255\n",
    "\n",
    "# Make sure images have shape (28, 28, 1)\n",
    "x_train = np.expand_dims(x_train, -1)\n",
    "x_test = np.expand_dims(x_test, -1)\n",
    "\n"
   ]
  },
  {
   "cell_type": "code",
   "execution_count": 50,
   "metadata": {},
   "outputs": [
    {
     "data": {
      "text/plain": [
       "(60000, 28, 28, 1)"
      ]
     },
     "execution_count": 50,
     "metadata": {},
     "output_type": "execute_result"
    }
   ],
   "source": [
    "x_train.shape"
   ]
  },
  {
   "cell_type": "code",
   "execution_count": 51,
   "metadata": {},
   "outputs": [
    {
     "name": "stdout",
     "output_type": "stream",
     "text": [
      "(60000, 28, 28, 1)\n"
     ]
    }
   ],
   "source": [
    "print(x_train.shape)"
   ]
  },
  {
   "cell_type": "code",
   "execution_count": 52,
   "metadata": {},
   "outputs": [],
   "source": [
    "# One-hot encoding about labels\n",
    "\n",
    "y_train = tf.keras.utils.to_categorical(y_train)\n",
    "y_test = tf.keras.utils.to_categorical(y_test)\n",
    "\n"
   ]
  },
  {
   "cell_type": "code",
   "execution_count": 53,
   "metadata": {},
   "outputs": [
    {
     "name": "stdout",
     "output_type": "stream",
     "text": [
      "(60000, 10)\n"
     ]
    }
   ],
   "source": [
    "print(y_train.shape)"
   ]
  },
  {
   "cell_type": "markdown",
   "metadata": {},
   "source": [
    "### 2. CNN Model declaration"
   ]
  },
  {
   "cell_type": "code",
   "execution_count": 18,
   "metadata": {},
   "outputs": [],
   "source": [
    "model = tf.keras.models.Sequential()\n",
    "\n",
    "model.add(tf.keras.layers.Conv2D(filters = 32, kernel_size = 5, strides = 1, padding = 'same', activation = 'relu', input_shape = (28,28,1)))\n",
    "model.add(tf.keras.layers.MaxPool2D(pool_size = (2,2), strides = 2))\n",
    "model.add(tf.keras.layers.Conv2D(filters = 64, kernel_size = 5, strides = 1, padding = 'same', activation = 'relu'))\n",
    "model.add(tf.keras.layers.MaxPool2D(pool_size = (2,2), strides = 2))\n",
    "model.add(tf.keras.layers.Flatten())\n",
    "model.add(tf.keras.layers.Dense(1024, activation = 'relu'))\n",
    "model.add(tf.keras.layers.Dense(10, activation = 'softmax'))"
   ]
  },
  {
   "cell_type": "markdown",
   "metadata": {},
   "source": [
    "### 3. Loss Function and Optim function declarations"
   ]
  },
  {
   "cell_type": "code",
   "execution_count": 19,
   "metadata": {},
   "outputs": [],
   "source": [
    "\n",
    "# delaration loss function\n",
    "@tf.function\n",
    "def cross_entropy_loss(logits, y):\n",
    "    return tf.reduce_mean(tf.nn.softmax_cross_entropy_with_logits(logits=logits, labels=y))\n",
    "\n",
    "# delaration optimizer function\n",
    "optimizer = tf.optimizers.Adam(1e-4)\n",
    "\n",
    "# delaration optimizing steps in CNN\n",
    "@tf.function\n",
    "def train_step(model, x, y):\n",
    "    with tf.GradientTape() as tape:\n",
    "        y_pred, logits = model(x)\n",
    "        loss = cross_entropy_loss(logits, y)\n",
    "    gradients = tape.gradient(loss, model.trainable_variables) # trainable gradient using\n",
    "    optimizer.apply_gradients(zip(gradients, model.trainable_variables)) #to use updated trainable gradients in model\n",
    "\n",
    "# declaration of computing accuracy\n",
    "@tf.function\n",
    "def compute_accuracy(y_pred, y):\n",
    "    correct_prediction = tf.equal(tf.argmax(y_pred,1), tf.argmax(y,1))\n",
    "    accuracy = tf.reduce_mean(tf.cast(correct_prediction, tf.float32))\n",
    "    return accuracy\n"
   ]
  },
  {
   "cell_type": "markdown",
   "metadata": {},
   "source": [
    "### 4. model learning execution"
   ]
  },
  {
   "cell_type": "code",
   "execution_count": 54,
   "metadata": {},
   "outputs": [],
   "source": [
    "\n",
    "model.compile(optimizer= 'adam',\n",
    "              loss = 'categorical_crossentropy', \n",
    "              metrics=['accuracy'])"
   ]
  },
  {
   "cell_type": "code",
   "execution_count": 56,
   "metadata": {},
   "outputs": [
    {
     "name": "stdout",
     "output_type": "stream",
     "text": [
      "Epoch 1/30\n",
      "140/140 [==============================] - 6s 42ms/step - loss: 0.0030 - accuracy: 0.9990 - val_loss: 0.0475 - val_accuracy: 0.9911\n",
      "Epoch 2/30\n",
      "140/140 [==============================] - 6s 42ms/step - loss: 0.0018 - accuracy: 0.9995 - val_loss: 0.0531 - val_accuracy: 0.9907\n",
      "Epoch 3/30\n",
      "140/140 [==============================] - 6s 42ms/step - loss: 0.0023 - accuracy: 0.9994 - val_loss: 0.0558 - val_accuracy: 0.9904\n",
      "Epoch 4/30\n",
      "140/140 [==============================] - 6s 42ms/step - loss: 0.0047 - accuracy: 0.9988 - val_loss: 0.0601 - val_accuracy: 0.9891\n",
      "Epoch 5/30\n",
      "140/140 [==============================] - 6s 42ms/step - loss: 0.0049 - accuracy: 0.9987 - val_loss: 0.0592 - val_accuracy: 0.9895\n",
      "Epoch 6/30\n",
      "140/140 [==============================] - 6s 42ms/step - loss: 0.0037 - accuracy: 0.9989 - val_loss: 0.0482 - val_accuracy: 0.9898\n",
      "Epoch 7/30\n",
      "140/140 [==============================] - 6s 42ms/step - loss: 4.1172e-04 - accuracy: 0.9998 - val_loss: 0.0472 - val_accuracy: 0.9918\n",
      "Epoch 8/30\n",
      "140/140 [==============================] - 6s 42ms/step - loss: 1.0382e-04 - accuracy: 1.0000 - val_loss: 0.0493 - val_accuracy: 0.9916\n",
      "Epoch 9/30\n",
      "140/140 [==============================] - 6s 42ms/step - loss: 1.7170e-05 - accuracy: 1.0000 - val_loss: 0.0486 - val_accuracy: 0.9919\n",
      "Epoch 10/30\n",
      "140/140 [==============================] - 6s 42ms/step - loss: 9.0168e-06 - accuracy: 1.0000 - val_loss: 0.0491 - val_accuracy: 0.9919\n",
      "Epoch 11/30\n",
      "140/140 [==============================] - 6s 42ms/step - loss: 7.1887e-06 - accuracy: 1.0000 - val_loss: 0.0497 - val_accuracy: 0.9919\n",
      "Epoch 12/30\n",
      "140/140 [==============================] - 6s 42ms/step - loss: 5.9269e-06 - accuracy: 1.0000 - val_loss: 0.0501 - val_accuracy: 0.9920\n",
      "Epoch 13/30\n",
      "140/140 [==============================] - 6s 42ms/step - loss: 5.0405e-06 - accuracy: 1.0000 - val_loss: 0.0506 - val_accuracy: 0.9918\n",
      "Epoch 14/30\n",
      "140/140 [==============================] - 6s 42ms/step - loss: 4.3365e-06 - accuracy: 1.0000 - val_loss: 0.0510 - val_accuracy: 0.9918\n",
      "Epoch 15/30\n",
      "140/140 [==============================] - 6s 42ms/step - loss: 3.7318e-06 - accuracy: 1.0000 - val_loss: 0.0515 - val_accuracy: 0.9919\n",
      "Epoch 16/30\n",
      "140/140 [==============================] - 6s 42ms/step - loss: 3.2452e-06 - accuracy: 1.0000 - val_loss: 0.0519 - val_accuracy: 0.9918\n",
      "Epoch 17/30\n",
      "140/140 [==============================] - 6s 42ms/step - loss: 2.8533e-06 - accuracy: 1.0000 - val_loss: 0.0523 - val_accuracy: 0.9917\n",
      "Epoch 18/30\n",
      "140/140 [==============================] - 6s 42ms/step - loss: 2.4989e-06 - accuracy: 1.0000 - val_loss: 0.0527 - val_accuracy: 0.9917\n",
      "Epoch 19/30\n",
      "140/140 [==============================] - 6s 42ms/step - loss: 2.2170e-06 - accuracy: 1.0000 - val_loss: 0.0530 - val_accuracy: 0.9917\n",
      "Epoch 20/30\n",
      "140/140 [==============================] - 6s 42ms/step - loss: 1.9794e-06 - accuracy: 1.0000 - val_loss: 0.0534 - val_accuracy: 0.9919\n",
      "Epoch 21/30\n",
      "140/140 [==============================] - 6s 42ms/step - loss: 1.7716e-06 - accuracy: 1.0000 - val_loss: 0.0538 - val_accuracy: 0.9918\n",
      "Epoch 22/30\n",
      "140/140 [==============================] - 6s 42ms/step - loss: 1.5897e-06 - accuracy: 1.0000 - val_loss: 0.0542 - val_accuracy: 0.9919\n",
      "Epoch 23/30\n",
      "140/140 [==============================] - 6s 42ms/step - loss: 1.4317e-06 - accuracy: 1.0000 - val_loss: 0.0544 - val_accuracy: 0.9919\n",
      "Epoch 24/30\n",
      "140/140 [==============================] - 6s 42ms/step - loss: 1.2880e-06 - accuracy: 1.0000 - val_loss: 0.0548 - val_accuracy: 0.9918\n",
      "Epoch 25/30\n",
      "140/140 [==============================] - 6s 42ms/step - loss: 1.1716e-06 - accuracy: 1.0000 - val_loss: 0.0551 - val_accuracy: 0.9920\n",
      "Epoch 26/30\n",
      "140/140 [==============================] - 6s 42ms/step - loss: 1.0624e-06 - accuracy: 1.0000 - val_loss: 0.0555 - val_accuracy: 0.9921\n",
      "Epoch 27/30\n",
      "140/140 [==============================] - 6s 42ms/step - loss: 9.6805e-07 - accuracy: 1.0000 - val_loss: 0.0558 - val_accuracy: 0.9920\n",
      "Epoch 28/30\n",
      "140/140 [==============================] - 6s 42ms/step - loss: 8.8278e-07 - accuracy: 1.0000 - val_loss: 0.0561 - val_accuracy: 0.9920\n",
      "Epoch 29/30\n",
      "140/140 [==============================] - 6s 42ms/step - loss: 8.0709e-07 - accuracy: 1.0000 - val_loss: 0.0564 - val_accuracy: 0.9921\n",
      "Epoch 30/30\n",
      "140/140 [==============================] - 6s 43ms/step - loss: 7.4594e-07 - accuracy: 1.0000 - val_loss: 0.0567 - val_accuracy: 0.9921\n"
     ]
    }
   ],
   "source": [
    "epochs = 30\n",
    "batch_size = 300\n",
    "\n",
    "history = model.fit(x_train, y_train, epochs = epochs, batch_size = batch_size, validation_split= 0.3)"
   ]
  },
  {
   "cell_type": "code",
   "execution_count": 57,
   "metadata": {},
   "outputs": [
    {
     "data": {
      "text/plain": [
       "dict_keys(['loss', 'accuracy', 'val_loss', 'val_accuracy'])"
      ]
     },
     "execution_count": 57,
     "metadata": {},
     "output_type": "execute_result"
    }
   ],
   "source": [
    "history.history.keys()"
   ]
  },
  {
   "cell_type": "code",
   "execution_count": 58,
   "metadata": {},
   "outputs": [
    {
     "name": "stdout",
     "output_type": "stream",
     "text": [
      "Model: \"sequential_1\"\n",
      "_________________________________________________________________\n",
      " Layer (type)                Output Shape              Param #   \n",
      "=================================================================\n",
      " conv2d_1 (Conv2D)           (None, 28, 28, 32)        832       \n",
      "                                                                 \n",
      " max_pooling2d (MaxPooling2D  (None, 14, 14, 32)       0         \n",
      " )                                                               \n",
      "                                                                 \n",
      " conv2d_2 (Conv2D)           (None, 14, 14, 64)        51264     \n",
      "                                                                 \n",
      " max_pooling2d_1 (MaxPooling  (None, 7, 7, 64)         0         \n",
      " 2D)                                                             \n",
      "                                                                 \n",
      " flatten (Flatten)           (None, 3136)              0         \n",
      "                                                                 \n",
      " dense (Dense)               (None, 1024)              3212288   \n",
      "                                                                 \n",
      " dense_1 (Dense)             (None, 10)                10250     \n",
      "                                                                 \n",
      "=================================================================\n",
      "Total params: 3,274,634\n",
      "Trainable params: 3,274,634\n",
      "Non-trainable params: 0\n",
      "_________________________________________________________________\n"
     ]
    }
   ],
   "source": [
    "model.summary()"
   ]
  },
  {
   "cell_type": "markdown",
   "metadata": {},
   "source": [
    "### 5. model result plotting"
   ]
  },
  {
   "cell_type": "code",
   "execution_count": 59,
   "metadata": {},
   "outputs": [
    {
     "data": {
      "image/png": "[encoded data removed]",
      "text/plain": [
       "<Figure size 1440x720 with 2 Axes>"
      ]
     },
     "metadata": {
      "needs_background": "light"
     },
     "output_type": "display_data"
    }
   ],
   "source": [
    "import matplotlib.pyplot as plt\n",
    "\n",
    "his_dict = history.history\n",
    "loss = his_dict['loss']\n",
    "val_loss = his_dict['val_loss'] # 검증 데이터가 있는 경우 ‘val_’ 수식어가 붙습니다.\n",
    "\n",
    "epochs = range(1, len(loss) + 1)\n",
    "fig = plt.figure(figsize = (20, 10))\n",
    "\n",
    "# 훈련 및 검증 손실 그리기\n",
    "ax1 = fig.add_subplot(1, 2, 1)\n",
    "ax1.plot(epochs, loss, color = 'blue', label = 'train_loss')\n",
    "ax1.plot(epochs, val_loss, color = 'orange', label = 'val_loss')\n",
    "ax1.set_title('train and val loss')\n",
    "ax1.set_xlabel('epochs')\n",
    "ax1.set_ylabel('loss')\n",
    "ax1.legend()\n",
    "\n",
    "acc = his_dict['accuracy']\n",
    "val_acc = his_dict['val_accuracy']\n",
    "\n",
    "# 훈련 및 검증 정확도 그리기\n",
    "ax2 = fig.add_subplot(1, 2, 2)\n",
    "ax2.plot(epochs, acc, color = 'blue', label = 'train_acc')\n",
    "ax2.plot(epochs, val_acc, color = 'orange', label = 'val_acc')\n",
    "ax2.set_title('train and val acc')\n",
    "ax2.set_xlabel('epochs')\n",
    "ax2.set_ylabel('acc')\n",
    "ax2.legend()\n",
    "\n",
    "plt.show()\n"
   ]
  },
  {
   "cell_type": "markdown",
   "metadata": {},
   "source": [
    "### 6. Evaluate model"
   ]
  },
  {
   "cell_type": "code",
   "execution_count": 60,
   "metadata": {},
   "outputs": [
    {
     "name": "stdout",
     "output_type": "stream",
     "text": [
      " 14/313 [>.............................] - ETA: 2s - loss: 0.0227 - accuracy: 0.9933   "
     ]
    },
    {
     "name": "stderr",
     "output_type": "stream",
     "text": [
      "2022-11-08 19:04:08.565241: I tensorflow/core/grappler/optimizers/custom_graph_optimizer_registry.cc:113] Plugin optimizer for device_type GPU is enabled.\n"
     ]
    },
    {
     "name": "stdout",
     "output_type": "stream",
     "text": [
      "313/313 [==============================] - 3s 8ms/step - loss: 0.0353 - accuracy: 0.9938\n"
     ]
    },
    {
     "data": {
      "text/plain": [
       "[0.0352993868291378, 0.9938000440597534]"
      ]
     },
     "execution_count": 60,
     "metadata": {},
     "output_type": "execute_result"
    }
   ],
   "source": [
    "model.evaluate(x_test, y_test)"
   ]
  },
  {
   "cell_type": "code",
   "execution_count": 61,
   "metadata": {},
   "outputs": [
    {
     "name": "stderr",
     "output_type": "stream",
     "text": [
      "2022-11-08 19:04:19.701590: I tensorflow/core/grappler/optimizers/custom_graph_optimizer_registry.cc:113] Plugin optimizer for device_type GPU is enabled.\n"
     ]
    },
    {
     "name": "stdout",
     "output_type": "stream",
     "text": [
      "(10000, 10)\n",
      "각 클래스에 속할 확률 : \n",
      "[1.1837654e-26 3.8773170e-23 3.4288997e-22 2.1454375e-19 6.4204848e-31\n",
      " 6.7805572e-26 1.3127983e-34 1.0000000e+00 5.0152059e-25 5.0976140e-17]\n"
     ]
    }
   ],
   "source": [
    "import numpy as np\n",
    "np.set_printoptions(precision=7) # numpy set precisions\n",
    "\n",
    "results = model.predict(x_test)\n",
    "\n",
    "print(results.shape)\n",
    "\n",
    "print(f'각 클래스에 속할 확률 : \\n{results[0]}')"
   ]
  },
  {
   "cell_type": "code",
   "execution_count": 62,
   "metadata": {},
   "outputs": [
    {
     "data": {
      "image/png": "[encoded data removed]",
      "text/plain": [
       "<Figure size 432x288 with 1 Axes>"
      ]
     },
     "metadata": {
      "needs_background": "light"
     },
     "output_type": "display_data"
    }
   ],
   "source": [
    "import matplotlib.pyplot as plt\n",
    "\n",
    "arg_results = np.argmax(results, axis = -1) # 가장 큰 값의 인덱스를 가져옵니다.\n",
    "plt.imshow(x_test[0].reshape(28, 28))\n",
    "plt.title('Predicted value of first image : ' + str(arg_results[0]), fontsize = 15)\n",
    "plt.show()"
   ]
  },
  {
   "cell_type": "code",
   "execution_count": 63,
   "metadata": {},
   "outputs": [
    {
     "data": {
      "image/png": "[encoded data removed]",
      "text/plain": [
       "<Figure size 720x720 with 2 Axes>"
      ]
     },
     "metadata": {
      "needs_background": "light"
     },
     "output_type": "display_data"
    }
   ],
   "source": [
    "from sklearn.metrics import classification_report, confusion_matrix\n",
    "import matplotlib.pyplot as plt\n",
    "import seaborn as sns\n",
    "\n",
    "\n",
    "plt.figure(figsize = (10, 10))\n",
    "cm = confusion_matrix(np.argmax(y_test, axis = -1), np.argmax(results, axis = -1))\n",
    "sns.heatmap(cm, annot = True, fmt = 'd',cmap = 'Blues')\n",
    "plt.xlabel('predicted label', fontsize = 15)\n",
    "plt.ylabel('true label', fontsize = 15)\n",
    "plt.show()"
   ]
  },
  {
   "cell_type": "code",
   "execution_count": 64,
   "metadata": {},
   "outputs": [
    {
     "name": "stdout",
     "output_type": "stream",
     "text": [
      "\n",
      "               precision    recall  f1-score   support\n",
      "\n",
      "           0       0.99      1.00      1.00       980\n",
      "           1       1.00      1.00      1.00      1135\n",
      "           2       0.99      0.99      0.99      1032\n",
      "           3       1.00      1.00      1.00      1010\n",
      "           4       0.99      0.99      0.99       982\n",
      "           5       0.99      0.99      0.99       892\n",
      "           6       1.00      0.99      0.99       958\n",
      "           7       0.99      0.99      0.99      1028\n",
      "           8       0.99      0.99      0.99       974\n",
      "           9       0.99      0.99      0.99      1009\n",
      "\n",
      "    accuracy                           0.99     10000\n",
      "   macro avg       0.99      0.99      0.99     10000\n",
      "weighted avg       0.99      0.99      0.99     10000\n",
      "\n"
     ]
    }
   ],
   "source": [
    "print('\\n', classification_report(np.argmax(y_test, axis = -1), np.argmax(results, axis = -1)))"
   ]
  },
  {
   "cell_type": "code",
   "execution_count": 66,
   "metadata": {},
   "outputs": [],
   "source": [
    "import h5py as h5\n",
    "model.save(\"mnist_detection_cnn.h5\")"
   ]
  },
  {
   "cell_type": "code",
   "execution_count": null,
   "metadata": {},
   "outputs": [],
   "source": []
  },
  {
   "cell_type": "code",
   "execution_count": null,
   "metadata": {},
   "outputs": [],
   "source": []
  }
 ],
 "metadata": {
  "kernelspec": {
   "display_name": "Python 3.8.11 ('tf')",
   "language": "python",
   "name": "python3"
  },
  "language_info": {
   "codemirror_mode": {
    "name": "ipython",
    "version": 3
   },
   "file_extension": ".py",
   "mimetype": "text/x-python",
   "name": "python",
   "nbconvert_exporter": "python",
   "pygments_lexer": "ipython3",
   "version": "3.8.11"
  },
  "orig_nbformat": 4,
  "vscode": {
   "interpreter": {
    "hash": "52ee2977380704a66854748a73250e0671a9318bd5b3fd45a3df9f851ae61629"
   }
  }
 },
 "nbformat": 4,
 "nbformat_minor": 2
}
